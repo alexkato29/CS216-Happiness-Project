{
 "cells": [
  {
   "cell_type": "code",
   "execution_count": 54,
   "metadata": {},
   "outputs": [],
   "source": [
    "import numpy as np\n",
    "import pandas as pd\n",
    "import seaborn as sns\n",
    "from scipy import stats"
   ]
  },
  {
   "cell_type": "code",
   "execution_count": 55,
   "metadata": {},
   "outputs": [],
   "source": [
    "happy = pd.read_csv(\"data/Happiness.csv\")\n",
    "nutrition = pd.read_csv(\"data/nutrition_data.csv\")[:96131]  # 2019 only to match timescale of happiness data\n",
    "\n",
    "nutrition_final = nutrition.copy()\n",
    "\n",
    "nutrition_final.loc[nutrition[\"Country Name\"] == \"Russian Federation\", \"Country Name\"] = \"Russia\"\n",
    "nutrition_final.loc[nutrition[\"Country Name\"] == \"Czechia\", \"Country Name\"] = \"Czech Republic\"\n",
    "nutrition_final.loc[nutrition[\"Country Name\"] == \"Trinidad and Tobago\", \"Country Name\"] = \"Trinidad & Tobago\"\n",
    "nutrition_final.loc[nutrition[\"Country Name\"] == \"Hong Kong SAR, China\", \"Country Name\"] = \"Hong Kong\"\n",
    "nutrition_final.loc[nutrition[\"Country Name\"] == \"Cote d'Ivoire\", \"Country Name\"] = \"Ivory Coast\"\n",
    "nutrition_final.loc[nutrition[\"Country Name\"] == \"Congo, Rep.\", \"Country Name\"] = \"Congo (Brazzaville)\"\n",
    "nutrition_final.loc[nutrition[\"Country Name\"] == \"Congo, Dem. Rep.\", \"Country Name\"] = \"Congo (Kinshasa)\"\n",
    "nutrition_final.loc[nutrition[\"Country Name\"] == \"Lao PDR\", \"Country Name\"] = \"Laos\"\n",
    "nutrition_final.loc[nutrition[\"Country Name\"] == \"Iran, Islamic Rep.\", \"Country Name\"] = \"Iran\"\n",
    "nutrition_final.loc[nutrition[\"Country Name\"] == \"Kyrgyz Republic\", \"Country Name\"] = \"Kyrgyzstan\"\n",
    "nutrition_final.loc[nutrition[\"Country Name\"] == \"Slovak Republic\", \"Country Name\"] = \"Slovakia\"\n",
    "nutrition_final.loc[nutrition[\"Country Name\"] == \"Turkiye\", \"Country Name\"] = \"Turkey\"\n",
    "nutrition_final.loc[nutrition[\"Country Name\"] == \"Venezuela, RB\", \"Country Name\"] = \"Venezuela\"\n",
    "nutrition_final.loc[nutrition[\"Country Name\"] == \"Egypt, Arab Rep.\", \"Country Name\"] = \"Egypt\"\n",
    "nutrition_final.loc[nutrition[\"Country Name\"] == \"Syrian Arab Republic\", \"Country Name\"] = \"Syria\"\n",
    "nutrition_final.loc[nutrition[\"Country Name\"] == \"Yemen, Rep.\", \"Country Name\"] = \"Yemen\"\n",
    "nutrition_final.loc[nutrition[\"Country Name\"] == \"West Bank and Gaza\", \"Country Name\"] = \"Palestinian Territories\"\n",
    "nutrition_final.loc[nutrition[\"Country Name\"] == \"Korea, Rep.\", \"Country Name\"] = \"South Korea\"\n",
    "nutrition_final.loc[nutrition[\"Country Name\"] == \"Gambia, The\", \"Country Name\"] = \"Gambia\"\n",
    "nutrition_final.loc[nutrition[\"Country Name\"] == \"Eswatini\", \"Country Name\"] = \"Swaziland\""
   ]
  },
  {
   "cell_type": "code",
   "execution_count": 56,
   "metadata": {},
   "outputs": [],
   "source": [
    "nutrition_wide = nutrition_final.pivot(index = \"Country Name\", \n",
    "                                 columns = \"Series Name\", \n",
    "                                 values = \"2019 [YR2019]\")"
   ]
  },
  {
   "cell_type": "code",
   "execution_count": 57,
   "metadata": {},
   "outputs": [],
   "source": [
    "happy_merged = pd.merge(happy, nutrition_wide, how = \"inner\", \n",
    "                        right_on = \"Country Name\", \n",
    "                        left_on = \"Country or region\") # excluded Taiwan and Northern Cyprus"
   ]
  },
  {
   "cell_type": "code",
   "execution_count": 58,
   "metadata": {},
   "outputs": [
    {
     "data": {
      "text/html": [
       "<div>\n",
       "<style scoped>\n",
       "    .dataframe tbody tr th:only-of-type {\n",
       "        vertical-align: middle;\n",
       "    }\n",
       "\n",
       "    .dataframe tbody tr th {\n",
       "        vertical-align: top;\n",
       "    }\n",
       "\n",
       "    .dataframe thead th {\n",
       "        text-align: right;\n",
       "    }\n",
       "</style>\n",
       "<table border=\"1\" class=\"dataframe\">\n",
       "  <thead>\n",
       "    <tr style=\"text-align: right;\">\n",
       "      <th></th>\n",
       "      <th>Overall rank</th>\n",
       "      <th>Country or region</th>\n",
       "      <th>Score</th>\n",
       "      <th>GDP per capita</th>\n",
       "      <th>Social support</th>\n",
       "      <th>Healthy life expectancy</th>\n",
       "      <th>Freedom to make life choices</th>\n",
       "      <th>Generosity</th>\n",
       "      <th>Perceptions of corruption</th>\n",
       "      <th>AIDS estimated deaths (UNAIDS estimates)</th>\n",
       "      <th>...</th>\n",
       "      <th>Urban population (% of total population)</th>\n",
       "      <th>Urban population growth (annual %)</th>\n",
       "      <th>Urban poverty headcount ratio at national poverty lines (% of urban population)</th>\n",
       "      <th>Use of insecticide-treated bed nets (% of under-5 population)</th>\n",
       "      <th>Vitamin A supplementation coverage rate (% of children ages 6-59 months)</th>\n",
       "      <th>Wanted fertility rate (births per woman)</th>\n",
       "      <th>Women who were first married by age 15 (% of women ages 20-24)</th>\n",
       "      <th>Women who were first married by age 18 (% of women ages 20-24)</th>\n",
       "      <th>Women's share of population ages 15+ living with HIV (%)</th>\n",
       "      <th>Young people (ages 15-24) newly infected with HIV</th>\n",
       "    </tr>\n",
       "  </thead>\n",
       "  <tbody>\n",
       "    <tr>\n",
       "      <th>0</th>\n",
       "      <td>1</td>\n",
       "      <td>Finland</td>\n",
       "      <td>7.769</td>\n",
       "      <td>1.340</td>\n",
       "      <td>1.587</td>\n",
       "      <td>0.986</td>\n",
       "      <td>0.596</td>\n",
       "      <td>0.153</td>\n",
       "      <td>0.393</td>\n",
       "      <td>..</td>\n",
       "      <td>...</td>\n",
       "      <td>85.446</td>\n",
       "      <td>0.185101615266816</td>\n",
       "      <td>..</td>\n",
       "      <td>..</td>\n",
       "      <td>..</td>\n",
       "      <td>..</td>\n",
       "      <td>..</td>\n",
       "      <td>..</td>\n",
       "      <td>26.6</td>\n",
       "      <td>..</td>\n",
       "    </tr>\n",
       "    <tr>\n",
       "      <th>1</th>\n",
       "      <td>2</td>\n",
       "      <td>Denmark</td>\n",
       "      <td>7.600</td>\n",
       "      <td>1.383</td>\n",
       "      <td>1.573</td>\n",
       "      <td>0.996</td>\n",
       "      <td>0.592</td>\n",
       "      <td>0.252</td>\n",
       "      <td>0.410</td>\n",
       "      <td>100</td>\n",
       "      <td>...</td>\n",
       "      <td>87.994</td>\n",
       "      <td>0.494581334948344</td>\n",
       "      <td>..</td>\n",
       "      <td>..</td>\n",
       "      <td>..</td>\n",
       "      <td>..</td>\n",
       "      <td>..</td>\n",
       "      <td>..</td>\n",
       "      <td>25.9</td>\n",
       "      <td>100</td>\n",
       "    </tr>\n",
       "    <tr>\n",
       "      <th>2</th>\n",
       "      <td>3</td>\n",
       "      <td>Norway</td>\n",
       "      <td>7.554</td>\n",
       "      <td>1.488</td>\n",
       "      <td>1.582</td>\n",
       "      <td>1.028</td>\n",
       "      <td>0.603</td>\n",
       "      <td>0.271</td>\n",
       "      <td>0.341</td>\n",
       "      <td>100</td>\n",
       "      <td>...</td>\n",
       "      <td>82.616</td>\n",
       "      <td>1.12148861779611</td>\n",
       "      <td>..</td>\n",
       "      <td>..</td>\n",
       "      <td>..</td>\n",
       "      <td>..</td>\n",
       "      <td>..</td>\n",
       "      <td>..</td>\n",
       "      <td>31.6</td>\n",
       "      <td>100</td>\n",
       "    </tr>\n",
       "    <tr>\n",
       "      <th>3</th>\n",
       "      <td>4</td>\n",
       "      <td>Iceland</td>\n",
       "      <td>7.494</td>\n",
       "      <td>1.380</td>\n",
       "      <td>1.624</td>\n",
       "      <td>1.026</td>\n",
       "      <td>0.591</td>\n",
       "      <td>0.354</td>\n",
       "      <td>0.118</td>\n",
       "      <td>100</td>\n",
       "      <td>...</td>\n",
       "      <td>93.855</td>\n",
       "      <td>2.24361872841293</td>\n",
       "      <td>..</td>\n",
       "      <td>..</td>\n",
       "      <td>..</td>\n",
       "      <td>..</td>\n",
       "      <td>..</td>\n",
       "      <td>..</td>\n",
       "      <td>30.5</td>\n",
       "      <td>100</td>\n",
       "    </tr>\n",
       "    <tr>\n",
       "      <th>4</th>\n",
       "      <td>5</td>\n",
       "      <td>Netherlands</td>\n",
       "      <td>7.488</td>\n",
       "      <td>1.396</td>\n",
       "      <td>1.522</td>\n",
       "      <td>0.999</td>\n",
       "      <td>0.557</td>\n",
       "      <td>0.322</td>\n",
       "      <td>0.298</td>\n",
       "      <td>100</td>\n",
       "      <td>...</td>\n",
       "      <td>91.876</td>\n",
       "      <td>1.0760840670841</td>\n",
       "      <td>..</td>\n",
       "      <td>..</td>\n",
       "      <td>..</td>\n",
       "      <td>..</td>\n",
       "      <td>..</td>\n",
       "      <td>..</td>\n",
       "      <td>18.5</td>\n",
       "      <td>100</td>\n",
       "    </tr>\n",
       "  </tbody>\n",
       "</table>\n",
       "<p>5 rows × 452 columns</p>\n",
       "</div>"
      ],
      "text/plain": [
       "   Overall rank Country or region  Score  GDP per capita  Social support  \\\n",
       "0             1           Finland  7.769           1.340           1.587   \n",
       "1             2           Denmark  7.600           1.383           1.573   \n",
       "2             3            Norway  7.554           1.488           1.582   \n",
       "3             4           Iceland  7.494           1.380           1.624   \n",
       "4             5       Netherlands  7.488           1.396           1.522   \n",
       "\n",
       "   Healthy life expectancy  Freedom to make life choices  Generosity  \\\n",
       "0                    0.986                         0.596       0.153   \n",
       "1                    0.996                         0.592       0.252   \n",
       "2                    1.028                         0.603       0.271   \n",
       "3                    1.026                         0.591       0.354   \n",
       "4                    0.999                         0.557       0.322   \n",
       "\n",
       "   Perceptions of corruption AIDS estimated deaths (UNAIDS estimates)  ...  \\\n",
       "0                      0.393                                       ..  ...   \n",
       "1                      0.410                                      100  ...   \n",
       "2                      0.341                                      100  ...   \n",
       "3                      0.118                                      100  ...   \n",
       "4                      0.298                                      100  ...   \n",
       "\n",
       "  Urban population (% of total population) Urban population growth (annual %)  \\\n",
       "0                                   85.446                  0.185101615266816   \n",
       "1                                   87.994                  0.494581334948344   \n",
       "2                                   82.616                   1.12148861779611   \n",
       "3                                   93.855                   2.24361872841293   \n",
       "4                                   91.876                    1.0760840670841   \n",
       "\n",
       "  Urban poverty headcount ratio at national poverty lines (% of urban population)  \\\n",
       "0                                                 ..                                \n",
       "1                                                 ..                                \n",
       "2                                                 ..                                \n",
       "3                                                 ..                                \n",
       "4                                                 ..                                \n",
       "\n",
       "  Use of insecticide-treated bed nets (% of under-5 population)  \\\n",
       "0                                                 ..              \n",
       "1                                                 ..              \n",
       "2                                                 ..              \n",
       "3                                                 ..              \n",
       "4                                                 ..              \n",
       "\n",
       "  Vitamin A supplementation coverage rate (% of children ages 6-59 months)  \\\n",
       "0                                                 ..                         \n",
       "1                                                 ..                         \n",
       "2                                                 ..                         \n",
       "3                                                 ..                         \n",
       "4                                                 ..                         \n",
       "\n",
       "  Wanted fertility rate (births per woman)  \\\n",
       "0                                       ..   \n",
       "1                                       ..   \n",
       "2                                       ..   \n",
       "3                                       ..   \n",
       "4                                       ..   \n",
       "\n",
       "  Women who were first married by age 15 (% of women ages 20-24)  \\\n",
       "0                                                 ..               \n",
       "1                                                 ..               \n",
       "2                                                 ..               \n",
       "3                                                 ..               \n",
       "4                                                 ..               \n",
       "\n",
       "  Women who were first married by age 18 (% of women ages 20-24)  \\\n",
       "0                                                 ..               \n",
       "1                                                 ..               \n",
       "2                                                 ..               \n",
       "3                                                 ..               \n",
       "4                                                 ..               \n",
       "\n",
       "  Women's share of population ages 15+ living with HIV (%)  \\\n",
       "0                                               26.6         \n",
       "1                                               25.9         \n",
       "2                                               31.6         \n",
       "3                                               30.5         \n",
       "4                                               18.5         \n",
       "\n",
       "  Young people (ages 15-24) newly infected with HIV  \n",
       "0                                                ..  \n",
       "1                                               100  \n",
       "2                                               100  \n",
       "3                                               100  \n",
       "4                                               100  \n",
       "\n",
       "[5 rows x 452 columns]"
      ]
     },
     "execution_count": 58,
     "metadata": {},
     "output_type": "execute_result"
    }
   ],
   "source": [
    "happy_merged.head()"
   ]
  },
  {
   "cell_type": "code",
   "execution_count": 88,
   "metadata": {},
   "outputs": [
    {
     "data": {
      "text/plain": [
       "Score                             float64\n",
       "Prevalence of Undernourishment    float64\n",
       "Prevalence of HIV                 float64\n",
       "Net Migration                       int64\n",
       "Health Expenditure Per Capita     float64\n",
       "dtype: object"
      ]
     },
     "execution_count": 88,
     "metadata": {},
     "output_type": "execute_result"
    }
   ],
   "source": [
    "# Select columns we want\n",
    "happy = happy_merged[[\"Country or region\",\n",
    "                      \"Score\",\n",
    "                      \"Current health expenditure per capita, PPP (current international $)\",\n",
    "                      \"Prevalence of undernourishment (% of population)\",\n",
    "                      \"Net migration\",\n",
    "                      \"Prevalence of HIV, total (% of population ages 15-49)\"]]\n",
    "happy = happy.replace('..', np.nan)\n",
    "\n",
    "# Convert objects to floats\n",
    "happy[\"Prevalence of Undernourishment\"] = pd.to_numeric(happy[\"Prevalence of undernourishment (% of population)\"])\n",
    "happy[\"Prevalence of HIV\"] = pd.to_numeric(happy[\"Prevalence of HIV, total (% of population ages 15-49)\"])\n",
    "happy[\"Net Migration\"] = pd.to_numeric(happy[\"Net migration\"])\n",
    "happy[\"Health Expenditure Per Capita\"] = pd.to_numeric(happy[\"Current health expenditure per capita, PPP (current international $)\"])\n",
    "\n",
    "# Drop old columns\n",
    "happy_with_country = happy[[\"Country or region\", \"Prevalence of HIV\"]]\n",
    "\n",
    "happy = happy.drop([\"Country or region\",\n",
    "                    \"Current health expenditure per capita, PPP (current international $)\",\n",
    "                    \"Prevalence of undernourishment (% of population)\",\n",
    "                    \"Net migration\",\n",
    "                    \"Prevalence of HIV, total (% of population ages 15-49)\"], axis=1)\n",
    "happy.dtypes"
   ]
  },
  {
   "cell_type": "code",
   "execution_count": 60,
   "metadata": {},
   "outputs": [
    {
     "data": {
      "text/html": [
       "<div>\n",
       "<style scoped>\n",
       "    .dataframe tbody tr th:only-of-type {\n",
       "        vertical-align: middle;\n",
       "    }\n",
       "\n",
       "    .dataframe tbody tr th {\n",
       "        vertical-align: top;\n",
       "    }\n",
       "\n",
       "    .dataframe thead th {\n",
       "        text-align: right;\n",
       "    }\n",
       "</style>\n",
       "<table border=\"1\" class=\"dataframe\">\n",
       "  <thead>\n",
       "    <tr style=\"text-align: right;\">\n",
       "      <th></th>\n",
       "      <th>Score</th>\n",
       "      <th>Prevalence of Undernourishment</th>\n",
       "      <th>Prevalence of HIV</th>\n",
       "      <th>Net Migration</th>\n",
       "      <th>Health Expenditure Per Capita</th>\n",
       "    </tr>\n",
       "  </thead>\n",
       "  <tbody>\n",
       "    <tr>\n",
       "      <th>0</th>\n",
       "      <td>7.769</td>\n",
       "      <td>2.5</td>\n",
       "      <td>NaN</td>\n",
       "      <td>15558</td>\n",
       "      <td>4710.218262</td>\n",
       "    </tr>\n",
       "    <tr>\n",
       "      <th>1</th>\n",
       "      <td>7.600</td>\n",
       "      <td>2.5</td>\n",
       "      <td>0.1</td>\n",
       "      <td>23305</td>\n",
       "      <td>6015.460938</td>\n",
       "    </tr>\n",
       "    <tr>\n",
       "      <th>2</th>\n",
       "      <td>7.554</td>\n",
       "      <td>2.5</td>\n",
       "      <td>0.1</td>\n",
       "      <td>25564</td>\n",
       "      <td>7217.386719</td>\n",
       "    </tr>\n",
       "    <tr>\n",
       "      <th>3</th>\n",
       "      <td>7.494</td>\n",
       "      <td>2.5</td>\n",
       "      <td>0.1</td>\n",
       "      <td>5152</td>\n",
       "      <td>5636.412598</td>\n",
       "    </tr>\n",
       "    <tr>\n",
       "      <th>4</th>\n",
       "      <td>7.488</td>\n",
       "      <td>2.5</td>\n",
       "      <td>0.2</td>\n",
       "      <td>60266</td>\n",
       "      <td>6248.151855</td>\n",
       "    </tr>\n",
       "    <tr>\n",
       "      <th>5</th>\n",
       "      <td>7.480</td>\n",
       "      <td>2.5</td>\n",
       "      <td>0.2</td>\n",
       "      <td>43546</td>\n",
       "      <td>8532.496094</td>\n",
       "    </tr>\n",
       "    <tr>\n",
       "      <th>6</th>\n",
       "      <td>7.343</td>\n",
       "      <td>2.5</td>\n",
       "      <td>NaN</td>\n",
       "      <td>81585</td>\n",
       "      <td>6222.659180</td>\n",
       "    </tr>\n",
       "    <tr>\n",
       "      <th>7</th>\n",
       "      <td>7.307</td>\n",
       "      <td>2.5</td>\n",
       "      <td>0.1</td>\n",
       "      <td>103392</td>\n",
       "      <td>4439.349609</td>\n",
       "    </tr>\n",
       "    <tr>\n",
       "      <th>8</th>\n",
       "      <td>7.278</td>\n",
       "      <td>2.5</td>\n",
       "      <td>NaN</td>\n",
       "      <td>391914</td>\n",
       "      <td>5520.651367</td>\n",
       "    </tr>\n",
       "    <tr>\n",
       "      <th>9</th>\n",
       "      <td>7.246</td>\n",
       "      <td>2.5</td>\n",
       "      <td>NaN</td>\n",
       "      <td>41105</td>\n",
       "      <td>6134.131348</td>\n",
       "    </tr>\n",
       "    <tr>\n",
       "      <th>10</th>\n",
       "      <td>7.228</td>\n",
       "      <td>2.5</td>\n",
       "      <td>0.1</td>\n",
       "      <td>235860</td>\n",
       "      <td>5294.462891</td>\n",
       "    </tr>\n",
       "    <tr>\n",
       "      <th>11</th>\n",
       "      <td>7.167</td>\n",
       "      <td>3.4</td>\n",
       "      <td>0.4</td>\n",
       "      <td>4154</td>\n",
       "      <td>1636.182373</td>\n",
       "    </tr>\n",
       "    <tr>\n",
       "      <th>12</th>\n",
       "      <td>7.139</td>\n",
       "      <td>2.5</td>\n",
       "      <td>NaN</td>\n",
       "      <td>16132</td>\n",
       "      <td>3326.252930</td>\n",
       "    </tr>\n",
       "    <tr>\n",
       "      <th>13</th>\n",
       "      <td>7.090</td>\n",
       "      <td>2.5</td>\n",
       "      <td>0.2</td>\n",
       "      <td>10365</td>\n",
       "      <td>6756.881348</td>\n",
       "    </tr>\n",
       "    <tr>\n",
       "      <th>14</th>\n",
       "      <td>7.054</td>\n",
       "      <td>2.5</td>\n",
       "      <td>NaN</td>\n",
       "      <td>221179</td>\n",
       "      <td>5087.381348</td>\n",
       "    </tr>\n",
       "    <tr>\n",
       "      <th>15</th>\n",
       "      <td>7.021</td>\n",
       "      <td>2.5</td>\n",
       "      <td>0.2</td>\n",
       "      <td>29113</td>\n",
       "      <td>6010.066406</td>\n",
       "    </tr>\n",
       "    <tr>\n",
       "      <th>16</th>\n",
       "      <td>6.985</td>\n",
       "      <td>2.5</td>\n",
       "      <td>0.1</td>\n",
       "      <td>360560</td>\n",
       "      <td>6738.670410</td>\n",
       "    </tr>\n",
       "    <tr>\n",
       "      <th>17</th>\n",
       "      <td>6.923</td>\n",
       "      <td>2.5</td>\n",
       "      <td>NaN</td>\n",
       "      <td>54395</td>\n",
       "      <td>5846.896484</td>\n",
       "    </tr>\n",
       "    <tr>\n",
       "      <th>18</th>\n",
       "      <td>6.892</td>\n",
       "      <td>2.5</td>\n",
       "      <td>0.4</td>\n",
       "      <td>1158444</td>\n",
       "      <td>10921.012695</td>\n",
       "    </tr>\n",
       "    <tr>\n",
       "      <th>19</th>\n",
       "      <td>6.852</td>\n",
       "      <td>2.5</td>\n",
       "      <td>NaN</td>\n",
       "      <td>4030</td>\n",
       "      <td>3477.025879</td>\n",
       "    </tr>\n",
       "  </tbody>\n",
       "</table>\n",
       "</div>"
      ],
      "text/plain": [
       "    Score  Prevalence of Undernourishment  Prevalence of HIV  Net Migration  \\\n",
       "0   7.769                             2.5                NaN          15558   \n",
       "1   7.600                             2.5                0.1          23305   \n",
       "2   7.554                             2.5                0.1          25564   \n",
       "3   7.494                             2.5                0.1           5152   \n",
       "4   7.488                             2.5                0.2          60266   \n",
       "5   7.480                             2.5                0.2          43546   \n",
       "6   7.343                             2.5                NaN          81585   \n",
       "7   7.307                             2.5                0.1         103392   \n",
       "8   7.278                             2.5                NaN         391914   \n",
       "9   7.246                             2.5                NaN          41105   \n",
       "10  7.228                             2.5                0.1         235860   \n",
       "11  7.167                             3.4                0.4           4154   \n",
       "12  7.139                             2.5                NaN          16132   \n",
       "13  7.090                             2.5                0.2          10365   \n",
       "14  7.054                             2.5                NaN         221179   \n",
       "15  7.021                             2.5                0.2          29113   \n",
       "16  6.985                             2.5                0.1         360560   \n",
       "17  6.923                             2.5                NaN          54395   \n",
       "18  6.892                             2.5                0.4        1158444   \n",
       "19  6.852                             2.5                NaN           4030   \n",
       "\n",
       "    Health Expenditure Per Capita  \n",
       "0                     4710.218262  \n",
       "1                     6015.460938  \n",
       "2                     7217.386719  \n",
       "3                     5636.412598  \n",
       "4                     6248.151855  \n",
       "5                     8532.496094  \n",
       "6                     6222.659180  \n",
       "7                     4439.349609  \n",
       "8                     5520.651367  \n",
       "9                     6134.131348  \n",
       "10                    5294.462891  \n",
       "11                    1636.182373  \n",
       "12                    3326.252930  \n",
       "13                    6756.881348  \n",
       "14                    5087.381348  \n",
       "15                    6010.066406  \n",
       "16                    6738.670410  \n",
       "17                    5846.896484  \n",
       "18                   10921.012695  \n",
       "19                    3477.025879  "
      ]
     },
     "execution_count": 60,
     "metadata": {},
     "output_type": "execute_result"
    }
   ],
   "source": [
    "happy.head(20)"
   ]
  },
  {
   "cell_type": "code",
   "execution_count": 61,
   "metadata": {},
   "outputs": [
    {
     "data": {
      "text/plain": [
       "<AxesSubplot: xlabel='Prevalence of Undernourishment', ylabel='Count'>"
      ]
     },
     "execution_count": 61,
     "metadata": {},
     "output_type": "execute_result"
    },
    {
     "data": {
      "image/png": "[encoded data removed]",
      "text/plain": [
       "<Figure size 640x480 with 1 Axes>"
      ]
     },
     "metadata": {},
     "output_type": "display_data"
    }
   ],
   "source": [
    "sns.histplot(data = happy, x = \"Prevalence of Undernourishment\")"
   ]
  },
  {
   "cell_type": "code",
   "execution_count": 62,
   "metadata": {},
   "outputs": [
    {
     "data": {
      "text/plain": [
       "[Text(0.5, 1.0, 'Histogram of Score')]"
      ]
     },
     "execution_count": 62,
     "metadata": {},
     "output_type": "execute_result"
    },
    {
     "data": {
      "image/png": "[encoded data removed]",
      "text/plain": [
       "<Figure size 640x480 with 1 Axes>"
      ]
     },
     "metadata": {},
     "output_type": "display_data"
    }
   ],
   "source": [
    "sns.histplot(data = happy, x = \"Score\").set(title = \"Histogram of Score\")"
   ]
  },
  {
   "cell_type": "code",
   "execution_count": 63,
   "metadata": {},
   "outputs": [
    {
     "data": {
      "text/plain": [
       "<AxesSubplot: xlabel='Prevalence of HIV', ylabel='Count'>"
      ]
     },
     "execution_count": 63,
     "metadata": {},
     "output_type": "execute_result"
    },
    {
     "data": {
      "image/png": "[encoded data removed]",
      "text/plain": [
       "<Figure size 640x480 with 1 Axes>"
      ]
     },
     "metadata": {},
     "output_type": "display_data"
    }
   ],
   "source": [
    "sns.histplot(data = happy, x = \"Prevalence of HIV\", bins = 10)"
   ]
  },
  {
   "cell_type": "code",
   "execution_count": 64,
   "metadata": {},
   "outputs": [
    {
     "data": {
      "text/plain": [
       "<AxesSubplot: xlabel='Health Expenditure Per Capita', ylabel='Count'>"
      ]
     },
     "execution_count": 64,
     "metadata": {},
     "output_type": "execute_result"
    },
    {
     "data": {
      "image/png": "[encoded data removed]",
      "text/plain": [
       "<Figure size 640x480 with 1 Axes>"
      ]
     },
     "metadata": {},
     "output_type": "display_data"
    }
   ],
   "source": [
    "sns.histplot(data = happy, x = \"Health Expenditure Per Capita\", bins = 20)"
   ]
  },
  {
   "cell_type": "code",
   "execution_count": 65,
   "metadata": {},
   "outputs": [
    {
     "data": {
      "text/plain": [
       "<AxesSubplot: xlabel='Net Migration', ylabel='Count'>"
      ]
     },
     "execution_count": 65,
     "metadata": {},
     "output_type": "execute_result"
    },
    {
     "data": {
      "image/png": "[encoded data removed]",
      "text/plain": [
       "<Figure size 640x480 with 1 Axes>"
      ]
     },
     "metadata": {},
     "output_type": "display_data"
    }
   ],
   "source": [
    "sns.histplot(data = happy, x = \"Net Migration\", bins = 30)"
   ]
  },
  {
   "cell_type": "code",
   "execution_count": 66,
   "metadata": {},
   "outputs": [
    {
     "data": {
      "text/plain": [
       "<seaborn.axisgrid.FacetGrid at 0x149af56d0>"
      ]
     },
     "execution_count": 66,
     "metadata": {},
     "output_type": "execute_result"
    },
    {
     "data": {
      "image/png": "[encoded data removed]",
      "text/plain": [
       "<Figure size 500x500 with 1 Axes>"
      ]
     },
     "metadata": {},
     "output_type": "display_data"
    }
   ],
   "source": [
    "sns.relplot(x = \"Score\", y = \"Prevalence of HIV\", data = happy)"
   ]
  },
  {
   "cell_type": "code",
   "execution_count": 67,
   "metadata": {},
   "outputs": [
    {
     "data": {
      "text/plain": [
       "<seaborn.axisgrid.FacetGrid at 0x149b5dd60>"
      ]
     },
     "execution_count": 67,
     "metadata": {},
     "output_type": "execute_result"
    },
    {
     "data": {
      "image/png": "[encoded data removed]",
      "text/plain": [
       "<Figure size 500x500 with 1 Axes>"
      ]
     },
     "metadata": {},
     "output_type": "display_data"
    }
   ],
   "source": [
    "sns.relplot(x = \"Score\", y = \"Prevalence of Undernourishment\", data = happy)"
   ]
  },
  {
   "cell_type": "code",
   "execution_count": 68,
   "metadata": {},
   "outputs": [
    {
     "data": {
      "text/plain": [
       "<seaborn.axisgrid.FacetGrid at 0x149a7edf0>"
      ]
     },
     "execution_count": 68,
     "metadata": {},
     "output_type": "execute_result"
    },
    {
     "data": {
      "image/png": "[encoded data removed]",
      "text/plain": [
       "<Figure size 500x500 with 1 Axes>"
      ]
     },
     "metadata": {},
     "output_type": "display_data"
    }
   ],
   "source": [
    "sns.relplot(x = \"Score\", y = \"Net Migration\", data = happy).set(title = \"Scatterplot of Net Migration and Score\")  # Initially does not look like there is much of a relationship"
   ]
  },
  {
   "cell_type": "code",
   "execution_count": 69,
   "metadata": {},
   "outputs": [
    {
     "data": {
      "text/plain": [
       "<seaborn.axisgrid.FacetGrid at 0x149bf5220>"
      ]
     },
     "execution_count": 69,
     "metadata": {},
     "output_type": "execute_result"
    },
    {
     "data": {
      "image/png": "[encoded data removed]",
      "text/plain": [
       "<Figure size 500x500 with 1 Axes>"
      ]
     },
     "metadata": {},
     "output_type": "display_data"
    }
   ],
   "source": [
    "sns.relplot(x = \"Score\", y = \"Health Expenditure Per Capita\", data = happy).set(title = \"Scatterplot of Health Expenditure and Score\", ylabel = \"Health Expenditure (PPP)\")"
   ]
  },
  {
   "cell_type": "code",
   "execution_count": 70,
   "metadata": {},
   "outputs": [],
   "source": [
    "\"\"\"\n",
    "We will attempt to data mine information from the variables.\n",
    "\n",
    "Thus, we will not be train/test splitting nor standardizing data or using \n",
    "regularization methods, for now.\n",
    "\"\"\"\n",
    "X = happy[[\"Health Expenditure Per Capita\",\n",
    "          \"Prevalence of Undernourishment\",\n",
    "          \"Net Migration\",\n",
    "          \"Prevalence of HIV\"]] \n",
    "y = happy[[\"Score\"]]"
   ]
  },
  {
   "cell_type": "code",
   "execution_count": 71,
   "metadata": {},
   "outputs": [
    {
     "data": {
      "text/plain": [
       "0.7655013522467002"
      ]
     },
     "execution_count": 71,
     "metadata": {},
     "output_type": "execute_result"
    }
   ],
   "source": [
    "from sklearn.linear_model import LinearRegression\n",
    "from sklearn.metrics import r2_score\n",
    "\n",
    "# X_imputed = X.fillna(X.mean())\n",
    "X_imputed = X.interpolate().fillna(method=\"bfill\")\n",
    "X_imputed[\"Health Expenditure Squared\"] = X_imputed[\"Health Expenditure Per Capita\"] ** 2\n",
    "\n",
    "lm = LinearRegression()\n",
    "lm.fit(X_imputed, y)\n",
    "predicted_ols = lm.predict(X_imputed)\n",
    "\n",
    "r2_score(y, predicted_ols)"
   ]
  },
  {
   "attachments": {},
   "cell_type": "markdown",
   "metadata": {},
   "source": [
    "Can't get pvalues from sklearn, so I will do it manually with linear algebra."
   ]
  },
  {
   "cell_type": "code",
   "execution_count": 72,
   "metadata": {},
   "outputs": [
    {
     "name": "stdout",
     "output_type": "stream",
     "text": [
      "r^2 Value: 0.766\tMSE: 0.291\tT-Dist DF: 148\n"
     ]
    },
    {
     "data": {
      "text/html": [
       "<div>\n",
       "<style scoped>\n",
       "    .dataframe tbody tr th:only-of-type {\n",
       "        vertical-align: middle;\n",
       "    }\n",
       "\n",
       "    .dataframe tbody tr th {\n",
       "        vertical-align: top;\n",
       "    }\n",
       "\n",
       "    .dataframe thead th {\n",
       "        text-align: right;\n",
       "    }\n",
       "</style>\n",
       "<table border=\"1\" class=\"dataframe\">\n",
       "  <thead>\n",
       "    <tr style=\"text-align: right;\">\n",
       "      <th></th>\n",
       "      <th>Feature</th>\n",
       "      <th>Est. Coefficient</th>\n",
       "      <th>Standard Error</th>\n",
       "      <th>t-stat</th>\n",
       "      <th>p-val</th>\n",
       "      <th>95% CI</th>\n",
       "    </tr>\n",
       "  </thead>\n",
       "  <tbody>\n",
       "    <tr>\n",
       "      <th>0</th>\n",
       "      <td>Intercept</td>\n",
       "      <td>4.970359e+00</td>\n",
       "      <td>1.045149e-01</td>\n",
       "      <td>47.556447</td>\n",
       "      <td>0.000000e+00</td>\n",
       "      <td>(4.761e+00, 5.179e+00)</td>\n",
       "    </tr>\n",
       "    <tr>\n",
       "      <th>1</th>\n",
       "      <td>Health Expenditure Per Capita</td>\n",
       "      <td>5.860842e-04</td>\n",
       "      <td>6.517152e-05</td>\n",
       "      <td>8.992949</td>\n",
       "      <td>1.110223e-15</td>\n",
       "      <td>(4.557e-04, 7.164e-04)</td>\n",
       "    </tr>\n",
       "    <tr>\n",
       "      <th>2</th>\n",
       "      <td>Prevalence of Undernourishment</td>\n",
       "      <td>-2.631013e-02</td>\n",
       "      <td>4.366737e-03</td>\n",
       "      <td>-6.025123</td>\n",
       "      <td>1.282028e-08</td>\n",
       "      <td>(-3.504e-02, -1.758e-02)</td>\n",
       "    </tr>\n",
       "    <tr>\n",
       "      <th>3</th>\n",
       "      <td>Net Migration</td>\n",
       "      <td>-3.032028e-07</td>\n",
       "      <td>2.540914e-07</td>\n",
       "      <td>-1.193283</td>\n",
       "      <td>2.346681e-01</td>\n",
       "      <td>(-8.114e-07, 2.050e-07)</td>\n",
       "    </tr>\n",
       "    <tr>\n",
       "      <th>4</th>\n",
       "      <td>Prevalence of HIV</td>\n",
       "      <td>-4.182538e-02</td>\n",
       "      <td>1.130437e-02</td>\n",
       "      <td>-3.699931</td>\n",
       "      <td>3.034360e-04</td>\n",
       "      <td>(-6.443e-02, -1.922e-02)</td>\n",
       "    </tr>\n",
       "    <tr>\n",
       "      <th>5</th>\n",
       "      <td>Health Expenditure Squared</td>\n",
       "      <td>-3.362255e-08</td>\n",
       "      <td>8.285234e-09</td>\n",
       "      <td>-4.058129</td>\n",
       "      <td>7.981254e-05</td>\n",
       "      <td>(-5.019e-08, -1.705e-08)</td>\n",
       "    </tr>\n",
       "  </tbody>\n",
       "</table>\n",
       "</div>"
      ],
      "text/plain": [
       "                          Feature  Est. Coefficient  Standard Error  \\\n",
       "0                       Intercept      4.970359e+00    1.045149e-01   \n",
       "1   Health Expenditure Per Capita      5.860842e-04    6.517152e-05   \n",
       "2  Prevalence of Undernourishment     -2.631013e-02    4.366737e-03   \n",
       "3                   Net Migration     -3.032028e-07    2.540914e-07   \n",
       "4               Prevalence of HIV     -4.182538e-02    1.130437e-02   \n",
       "5      Health Expenditure Squared     -3.362255e-08    8.285234e-09   \n",
       "\n",
       "      t-stat         p-val                    95% CI  \n",
       "0  47.556447  0.000000e+00    (4.761e+00, 5.179e+00)  \n",
       "1   8.992949  1.110223e-15    (4.557e-04, 7.164e-04)  \n",
       "2  -6.025123  1.282028e-08  (-3.504e-02, -1.758e-02)  \n",
       "3  -1.193283  2.346681e-01   (-8.114e-07, 2.050e-07)  \n",
       "4  -3.699931  3.034360e-04  (-6.443e-02, -1.922e-02)  \n",
       "5  -4.058129  7.981254e-05  (-5.019e-08, -1.705e-08)  "
      ]
     },
     "execution_count": 72,
     "metadata": {},
     "output_type": "execute_result"
    }
   ],
   "source": [
    "X_design = pd.DataFrame({\"Intercept\":np.ones(len(X_imputed))}).join(pd.DataFrame(X_imputed))\n",
    "params = np.append(lm.intercept_,lm.coef_)\n",
    "mse = (1/y.shape[0]) * (predicted_ols - y.values).T @ (predicted_ols - y.values)\n",
    "\n",
    "var_beta = mse * (np.linalg.inv(X_design.T @ X_design).diagonal())\n",
    "se_beta = np.sqrt(var_beta).flatten()\n",
    "t_stats = params/ se_beta\n",
    "\n",
    "p_vals = []\n",
    "\n",
    "for t in t_stats:\n",
    "    # phi(-x) + 1 - phi(x) = 2 * (1 - phi(abs(x)))\n",
    "    p = 2 * (1 - stats.t.cdf(x=np.abs(t),df=X_design.shape[0] - X_design.shape[1])) \n",
    "    p_vals.append(p)\n",
    "\n",
    "intervals = []\n",
    "for i, coef in enumerate(params):\n",
    "    low = '{:0.3e}'.format(coef - 2*se_beta[i])\n",
    "    high = '{:0.3e}'.format(coef + 2*se_beta[i])\n",
    "    interval = (low, high)\n",
    "    intervals.append(interval)\n",
    "\n",
    "# The transposes are to make them columns so we can append them\n",
    "t_test_results = pd.DataFrame()\n",
    "t_test_results[\"Feature\"] = X_design.columns\n",
    "t_test_results[\"Est. Coefficient\"] = params\n",
    "t_test_results[\"Standard Error\"] = se_beta\n",
    "t_test_results[\"t-stat\"] = t_stats.T\n",
    "t_test_results[\"p-val\"] = np.array(p_vals).T\n",
    "t_test_results[\"95% CI\"] = intervals\n",
    "\n",
    "print(\"r^2 Value: \" + str(r2_score(y, predicted_ols).round(3)) \n",
    "      + \"\\tMSE: \" + str(mse[0][0].round(3)) \n",
    "      + \"\\tT-Dist DF: \" + str(X_design.shape[0] - X_design.shape[1]))\n",
    "t_test_results"
   ]
  },
  {
   "attachments": {},
   "cell_type": "markdown",
   "metadata": {},
   "source": [
    "### Model Diagnostics"
   ]
  },
  {
   "cell_type": "code",
   "execution_count": 73,
   "metadata": {},
   "outputs": [
    {
     "data": {
      "image/png": "[encoded data removed]",
      "text/plain": [
       "<Figure size 500x500 with 1 Axes>"
      ]
     },
     "metadata": {},
     "output_type": "display_data"
    }
   ],
   "source": [
    "import matplotlib.pyplot as plt\n",
    "\n",
    "res_pred = pd.DataFrame()\n",
    "res_pred[\"Residuals\"] = y - predicted_ols\n",
    "res_pred[\"Predicted\"] = predicted_ols\n",
    "\n",
    "# Residuals vs Fitted\n",
    "sns.set_palette(\"pastel\")\n",
    "g = sns.relplot(y=\"Residuals\", x=\"Predicted\", data=res_pred)\n",
    "g.ax.axhline(y=0, color='mediumspringgreen')\n",
    "plt.xlabel(\"Predicted Values\")\n",
    "plt.ylabel(\"Residuals\")\n",
    "plt.title(\"Predicted Values vs Residuals\")\n",
    "plt.show()"
   ]
  },
  {
   "cell_type": "code",
   "execution_count": 74,
   "metadata": {},
   "outputs": [
    {
     "data": {
      "image/png": "[encoded data removed]",
      "text/plain": [
       "<Figure size 500x500 with 1 Axes>"
      ]
     },
     "metadata": {},
     "output_type": "display_data"
    }
   ],
   "source": [
    "# Residual Distribution\n",
    "sns.displot(x=\"Residuals\", data=res_pred)\n",
    "plt.xlabel(\"Count\")\n",
    "plt.ylabel(\"Residuals\")\n",
    "plt.title(\"Distribution of Residuals\")\n",
    "plt.show()"
   ]
  },
  {
   "cell_type": "code",
   "execution_count": 75,
   "metadata": {},
   "outputs": [
    {
     "data": {
      "text/plain": [
       "0.7655013522467004"
      ]
     },
     "execution_count": 75,
     "metadata": {},
     "output_type": "execute_result"
    }
   ],
   "source": [
    "from sklearn.preprocessing import StandardScaler\n",
    "scaler = StandardScaler()\n",
    "X_scaled = scaler.fit_transform(X_imputed)\n",
    "\n",
    "lm2 = LinearRegression()\n",
    "lm2.fit(X_scaled, y)\n",
    "predicted_ols2 = lm2.predict(X_scaled)\n",
    "r2_score(y, predicted_ols2)\n"
   ]
  },
  {
   "attachments": {},
   "cell_type": "markdown",
   "metadata": {},
   "source": [
    "Scaling does not make much of a difference in this case and impacts model interpretability. Don't include this in the final report."
   ]
  },
  {
   "attachments": {},
   "cell_type": "markdown",
   "metadata": {},
   "source": [
    "## Assessing Downfalls\n",
    "There are issues with multicollinearity and the data not being missing at random"
   ]
  },
  {
   "cell_type": "code",
   "execution_count": 92,
   "metadata": {},
   "outputs": [
    {
     "data": {
      "text/html": [
       "<div>\n",
       "<style scoped>\n",
       "    .dataframe tbody tr th:only-of-type {\n",
       "        vertical-align: middle;\n",
       "    }\n",
       "\n",
       "    .dataframe tbody tr th {\n",
       "        vertical-align: top;\n",
       "    }\n",
       "\n",
       "    .dataframe thead th {\n",
       "        text-align: right;\n",
       "    }\n",
       "</style>\n",
       "<table border=\"1\" class=\"dataframe\">\n",
       "  <thead>\n",
       "    <tr style=\"text-align: right;\">\n",
       "      <th></th>\n",
       "      <th>Country or region</th>\n",
       "      <th>Prevalence of HIV</th>\n",
       "    </tr>\n",
       "  </thead>\n",
       "  <tbody>\n",
       "    <tr>\n",
       "      <th>0</th>\n",
       "      <td>Finland</td>\n",
       "      <td>NaN</td>\n",
       "    </tr>\n",
       "    <tr>\n",
       "      <th>6</th>\n",
       "      <td>Sweden</td>\n",
       "      <td>NaN</td>\n",
       "    </tr>\n",
       "    <tr>\n",
       "      <th>8</th>\n",
       "      <td>Canada</td>\n",
       "      <td>NaN</td>\n",
       "    </tr>\n",
       "    <tr>\n",
       "      <th>9</th>\n",
       "      <td>Austria</td>\n",
       "      <td>NaN</td>\n",
       "    </tr>\n",
       "    <tr>\n",
       "      <th>12</th>\n",
       "      <td>Israel</td>\n",
       "      <td>NaN</td>\n",
       "    </tr>\n",
       "  </tbody>\n",
       "</table>\n",
       "</div>"
      ],
      "text/plain": [
       "   Country or region  Prevalence of HIV\n",
       "0            Finland                NaN\n",
       "6             Sweden                NaN\n",
       "8             Canada                NaN\n",
       "9            Austria                NaN\n",
       "12            Israel                NaN"
      ]
     },
     "execution_count": 92,
     "metadata": {},
     "output_type": "execute_result"
    }
   ],
   "source": [
    "only_na_hiv = happy_with_country[happy_with_country[\"Prevalence of HIV\"].isna()]\n",
    "only_na_hiv.head()"
   ]
  },
  {
   "cell_type": "code",
   "execution_count": 93,
   "metadata": {},
   "outputs": [
    {
     "data": {
      "text/html": [
       "<div>\n",
       "<style scoped>\n",
       "    .dataframe tbody tr th:only-of-type {\n",
       "        vertical-align: middle;\n",
       "    }\n",
       "\n",
       "    .dataframe tbody tr th {\n",
       "        vertical-align: top;\n",
       "    }\n",
       "\n",
       "    .dataframe thead th {\n",
       "        text-align: right;\n",
       "    }\n",
       "</style>\n",
       "<table border=\"1\" class=\"dataframe\">\n",
       "  <thead>\n",
       "    <tr style=\"text-align: right;\">\n",
       "      <th></th>\n",
       "      <th>Country or region</th>\n",
       "      <th>Prevalence of HIV</th>\n",
       "    </tr>\n",
       "  </thead>\n",
       "  <tbody>\n",
       "    <tr>\n",
       "      <th>98</th>\n",
       "      <td>Jordan</td>\n",
       "      <td>NaN</td>\n",
       "    </tr>\n",
       "    <tr>\n",
       "      <th>107</th>\n",
       "      <td>Palestinian Territories</td>\n",
       "      <td>NaN</td>\n",
       "    </tr>\n",
       "    <tr>\n",
       "      <th>113</th>\n",
       "      <td>Armenia</td>\n",
       "      <td>NaN</td>\n",
       "    </tr>\n",
       "    <tr>\n",
       "      <th>120</th>\n",
       "      <td>Mozambique</td>\n",
       "      <td>NaN</td>\n",
       "    </tr>\n",
       "    <tr>\n",
       "      <th>123</th>\n",
       "      <td>Iraq</td>\n",
       "      <td>NaN</td>\n",
       "    </tr>\n",
       "  </tbody>\n",
       "</table>\n",
       "</div>"
      ],
      "text/plain": [
       "           Country or region  Prevalence of HIV\n",
       "98                    Jordan                NaN\n",
       "107  Palestinian Territories                NaN\n",
       "113                  Armenia                NaN\n",
       "120               Mozambique                NaN\n",
       "123                     Iraq                NaN"
      ]
     },
     "execution_count": 93,
     "metadata": {},
     "output_type": "execute_result"
    }
   ],
   "source": [
    "only_na_hiv.tail()"
   ]
  },
  {
   "cell_type": "code",
   "execution_count": 43,
   "metadata": {},
   "outputs": [
    {
     "name": "stdout",
     "output_type": "stream",
     "text": [
      "Condition Number with Undernourishment and HIV: 4325205.24\n",
      "Condition Number without Undernourishment nor HIV: 15656.24\n",
      "Ratio: 276.26\n"
     ]
    }
   ],
   "source": [
    "no_int = X_design.drop([\"Intercept\"], axis=1)\n",
    "cond_undernourishment = np.linalg.cond(no_int.values)\n",
    "no_under = no_int.drop([\"Prevalence of Undernourishment\", \"Prevalence of HIV\"], axis=1)\n",
    "cond_no_under = np.linalg.cond(no_under.values)\n",
    "\n",
    "print(\"Condition Number with Undernourishment and HIV: \" + str(cond_undernourishment.round(2)))\n",
    "print(\"Condition Number without Undernourishment nor HIV: \" + str(cond_no_under.round(2)))\n",
    "print(\"Ratio: \" + str((cond_undernourishment / cond_no_under).round(2)))"
   ]
  },
  {
   "cell_type": "code",
   "execution_count": 209,
   "metadata": {},
   "outputs": [
    {
     "data": {
      "text/plain": [
       "0.6053374961355049"
      ]
     },
     "execution_count": 209,
     "metadata": {},
     "output_type": "execute_result"
    }
   ],
   "source": [
    "from sklearn.linear_model import Lasso\n",
    "\n",
    "lasso = Lasso()\n",
    "lasso.fit(X_imputed, y)\n",
    "predicted_lasso = lasso.predict(X_imputed)\n",
    "\n",
    "r2_score(y, predicted_lasso)"
   ]
  },
  {
   "attachments": {},
   "cell_type": "markdown",
   "metadata": {},
   "source": [
    "When imputing missing data, we see LASSO keeps only two parameters (Prevalence of Undernourishment and Health Expenditure Squared). When we use the mean, it keeps 4 coefficients (all but HIV prevalence)."
   ]
  },
  {
   "cell_type": "code",
   "execution_count": 210,
   "metadata": {},
   "outputs": [
    {
     "name": "stdout",
     "output_type": "stream",
     "text": [
      "Index(['Health Expenditure Per Capita', 'Prevalence of Undernourishment',\n",
      "       'Net Migration', 'Prevalence of HIV', 'Health Expenditure Squared'],\n",
      "      dtype='object')\n",
      "[[ 0.5860842  -0.02631013 -0.00303203 -0.04182538 -0.03362255]]\n",
      "[ 0.         -0.04219652 -0.         -0.          0.03042231]\n"
     ]
    }
   ],
   "source": [
    "print(X_imputed.columns)\n",
    "print(lm.coef_)\n",
    "print(lasso.coef_)"
   ]
  },
  {
   "cell_type": "markdown",
   "metadata": {},
   "source": [
    "One of the first big challenges we run into is missing data. Given the extremely limited amount of observations we have (155), it would be foolish to drop rows with missing entries. Instead, we can use a variation of monte carlo simulation from module 3. Specifically, we will use Markov Chain Monte Carlo (MCMC) to impute missing entries from a multivariate normal distribution. This will undoubtedly give us the most accurate values for missing data and perform better than mean replacement/row dropping."
   ]
  }
 ],
 "metadata": {
  "kernelspec": {
   "display_name": "Python 3",
   "language": "python",
   "name": "python3"
  },
  "language_info": {
   "codemirror_mode": {
    "name": "ipython",
    "version": 3
   },
   "file_extension": ".py",
   "mimetype": "text/x-python",
   "name": "python",
   "nbconvert_exporter": "python",
   "pygments_lexer": "ipython3",
   "version": "3.9.6"
  }
 },
 "nbformat": 4,
 "nbformat_minor": 2
}
