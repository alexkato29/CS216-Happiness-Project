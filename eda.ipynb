{
 "cells": [
  {
   "cell_type": "code",
   "execution_count": 1,
   "metadata": {},
   "outputs": [],
   "source": [
    "import numpy as np\n",
    "import pandas as pd\n",
    "import seaborn as sns"
   ]
  },
  {
   "cell_type": "code",
   "execution_count": 2,
   "metadata": {},
   "outputs": [],
   "source": [
    "happy = pd.read_csv(\"data/Happiness.csv\")\n",
    "nutrition = pd.read_csv(\"data/nutrition_data.csv\")[:96131]  # 2019 only to match timescale of happiness data\n",
    "\n",
    "nutrition_final = nutrition.copy()\n",
    "\n",
    "nutrition_final.loc[nutrition[\"Country Name\"] == \"Russian Federation\", \"Country Name\"] = \"Russia\"\n",
    "nutrition_final.loc[nutrition[\"Country Name\"] == \"Czechia\", \"Country Name\"] = \"Czech Republic\"\n",
    "nutrition_final.loc[nutrition[\"Country Name\"] == \"Trinidad and Tobago\", \"Country Name\"] = \"Trinidad & Tobago\"\n",
    "nutrition_final.loc[nutrition[\"Country Name\"] == \"Hong Kong SAR, China\", \"Country Name\"] = \"Hong Kong\"\n",
    "nutrition_final.loc[nutrition[\"Country Name\"] == \"Cote d'Ivoire\", \"Country Name\"] = \"Ivory Coast\"\n",
    "nutrition_final.loc[nutrition[\"Country Name\"] == \"Congo, Rep.\", \"Country Name\"] = \"Congo (Brazzaville)\"\n",
    "nutrition_final.loc[nutrition[\"Country Name\"] == \"Congo, Dem. Rep.\", \"Country Name\"] = \"Congo (Kinshasa)\"\n",
    "nutrition_final.loc[nutrition[\"Country Name\"] == \"Lao PDR\", \"Country Name\"] = \"Laos\"\n",
    "nutrition_final.loc[nutrition[\"Country Name\"] == \"Iran, Islamic Rep.\", \"Country Name\"] = \"Iran\"\n",
    "nutrition_final.loc[nutrition[\"Country Name\"] == \"Kyrgyz Republic\", \"Country Name\"] = \"Kyrgyzstan\"\n",
    "nutrition_final.loc[nutrition[\"Country Name\"] == \"Slovak Republic\", \"Country Name\"] = \"Slovakia\"\n",
    "nutrition_final.loc[nutrition[\"Country Name\"] == \"Turkiye\", \"Country Name\"] = \"Turkey\"\n",
    "nutrition_final.loc[nutrition[\"Country Name\"] == \"Venezuela, RB\", \"Country Name\"] = \"Venezuela\"\n",
    "nutrition_final.loc[nutrition[\"Country Name\"] == \"Egypt, Arab Rep.\", \"Country Name\"] = \"Egypt\"\n",
    "nutrition_final.loc[nutrition[\"Country Name\"] == \"Syrian Arab Republic\", \"Country Name\"] = \"Syria\"\n",
    "nutrition_final.loc[nutrition[\"Country Name\"] == \"Yemen, Rep.\", \"Country Name\"] = \"Yemen\"\n",
    "nutrition_final.loc[nutrition[\"Country Name\"] == \"West Bank and Gaza\", \"Country Name\"] = \"Palestinian Territories\"\n",
    "nutrition_final.loc[nutrition[\"Country Name\"] == \"Korea, Rep.\", \"Country Name\"] = \"South Korea\"\n",
    "nutrition_final.loc[nutrition[\"Country Name\"] == \"Gambia, The\", \"Country Name\"] = \"Gambia\"\n",
    "nutrition_final.loc[nutrition[\"Country Name\"] == \"Eswatini\", \"Country Name\"] = \"Swaziland\""
   ]
  },
  {
   "cell_type": "code",
   "execution_count": 3,
   "metadata": {},
   "outputs": [],
   "source": [
    "nutrition_wide = nutrition_final.pivot(index = \"Country Name\", \n",
    "                                 columns = \"Series Name\", \n",
    "                                 values = \"2019 [YR2019]\")"
   ]
  },
  {
   "cell_type": "code",
   "execution_count": 4,
   "metadata": {},
   "outputs": [],
   "source": [
    "happy_merged = pd.merge(happy, nutrition_wide, how = \"inner\", right_on = \"Country Name\", left_on = \"Country or region\") # excluded Taiwan and Northern Cyprus"
   ]
  },
  {
   "cell_type": "code",
   "execution_count": 5,
   "metadata": {},
   "outputs": [
    {
     "data": {
      "text/html": [
       "<div>\n",
       "<style scoped>\n",
       "    .dataframe tbody tr th:only-of-type {\n",
       "        vertical-align: middle;\n",
       "    }\n",
       "\n",
       "    .dataframe tbody tr th {\n",
       "        vertical-align: top;\n",
       "    }\n",
       "\n",
       "    .dataframe thead th {\n",
       "        text-align: right;\n",
       "    }\n",
       "</style>\n",
       "<table border=\"1\" class=\"dataframe\">\n",
       "  <thead>\n",
       "    <tr style=\"text-align: right;\">\n",
       "      <th></th>\n",
       "      <th>Overall rank</th>\n",
       "      <th>Country or region</th>\n",
       "      <th>Score</th>\n",
       "      <th>GDP per capita</th>\n",
       "      <th>Social support</th>\n",
       "      <th>Healthy life expectancy</th>\n",
       "      <th>Freedom to make life choices</th>\n",
       "      <th>Generosity</th>\n",
       "      <th>Perceptions of corruption</th>\n",
       "      <th>AIDS estimated deaths (UNAIDS estimates)</th>\n",
       "      <th>...</th>\n",
       "      <th>Urban poverty headcount ratio at national poverty lines (% of urban population)</th>\n",
       "      <th>Use of insecticide-treated bed nets (% of under-5 population)</th>\n",
       "      <th>Vitamin A supplementation coverage rate (% of children ages 6-59 months)</th>\n",
       "      <th>Wanted fertility rate (births per woman)</th>\n",
       "      <th>Women who were first married by age 15 (% of women ages 20-24)</th>\n",
       "      <th>Women who were first married by age 18 (% of women ages 20-24)</th>\n",
       "      <th>Women's share of population ages 15+ living with HIV (%)</th>\n",
       "      <th>Young people (ages 15-24) newly infected with HIV</th>\n",
       "      <th>Prevalence of undernourishment (percent of population)</th>\n",
       "      <th>Prevalence of HIV, total (percent of population ages 15-49)</th>\n",
       "    </tr>\n",
       "  </thead>\n",
       "  <tbody>\n",
       "    <tr>\n",
       "      <th>0</th>\n",
       "      <td>1</td>\n",
       "      <td>Finland</td>\n",
       "      <td>7.769</td>\n",
       "      <td>1.340</td>\n",
       "      <td>1.587</td>\n",
       "      <td>0.986</td>\n",
       "      <td>0.596</td>\n",
       "      <td>0.153</td>\n",
       "      <td>0.393</td>\n",
       "      <td>NaN</td>\n",
       "      <td>...</td>\n",
       "      <td>NaN</td>\n",
       "      <td>NaN</td>\n",
       "      <td>NaN</td>\n",
       "      <td>NaN</td>\n",
       "      <td>NaN</td>\n",
       "      <td>NaN</td>\n",
       "      <td>26.6</td>\n",
       "      <td>NaN</td>\n",
       "      <td>2.5</td>\n",
       "      <td>NaN</td>\n",
       "    </tr>\n",
       "    <tr>\n",
       "      <th>1</th>\n",
       "      <td>2</td>\n",
       "      <td>Denmark</td>\n",
       "      <td>7.600</td>\n",
       "      <td>1.383</td>\n",
       "      <td>1.573</td>\n",
       "      <td>0.996</td>\n",
       "      <td>0.592</td>\n",
       "      <td>0.252</td>\n",
       "      <td>0.410</td>\n",
       "      <td>100</td>\n",
       "      <td>...</td>\n",
       "      <td>NaN</td>\n",
       "      <td>NaN</td>\n",
       "      <td>NaN</td>\n",
       "      <td>NaN</td>\n",
       "      <td>NaN</td>\n",
       "      <td>NaN</td>\n",
       "      <td>25.9</td>\n",
       "      <td>100</td>\n",
       "      <td>2.5</td>\n",
       "      <td>0.1</td>\n",
       "    </tr>\n",
       "    <tr>\n",
       "      <th>2</th>\n",
       "      <td>3</td>\n",
       "      <td>Norway</td>\n",
       "      <td>7.554</td>\n",
       "      <td>1.488</td>\n",
       "      <td>1.582</td>\n",
       "      <td>1.028</td>\n",
       "      <td>0.603</td>\n",
       "      <td>0.271</td>\n",
       "      <td>0.341</td>\n",
       "      <td>100</td>\n",
       "      <td>...</td>\n",
       "      <td>NaN</td>\n",
       "      <td>NaN</td>\n",
       "      <td>NaN</td>\n",
       "      <td>NaN</td>\n",
       "      <td>NaN</td>\n",
       "      <td>NaN</td>\n",
       "      <td>31.6</td>\n",
       "      <td>100</td>\n",
       "      <td>2.5</td>\n",
       "      <td>0.1</td>\n",
       "    </tr>\n",
       "    <tr>\n",
       "      <th>3</th>\n",
       "      <td>4</td>\n",
       "      <td>Iceland</td>\n",
       "      <td>7.494</td>\n",
       "      <td>1.380</td>\n",
       "      <td>1.624</td>\n",
       "      <td>1.026</td>\n",
       "      <td>0.591</td>\n",
       "      <td>0.354</td>\n",
       "      <td>0.118</td>\n",
       "      <td>100</td>\n",
       "      <td>...</td>\n",
       "      <td>NaN</td>\n",
       "      <td>NaN</td>\n",
       "      <td>NaN</td>\n",
       "      <td>NaN</td>\n",
       "      <td>NaN</td>\n",
       "      <td>NaN</td>\n",
       "      <td>30.5</td>\n",
       "      <td>100</td>\n",
       "      <td>2.5</td>\n",
       "      <td>0.1</td>\n",
       "    </tr>\n",
       "    <tr>\n",
       "      <th>4</th>\n",
       "      <td>5</td>\n",
       "      <td>Netherlands</td>\n",
       "      <td>7.488</td>\n",
       "      <td>1.396</td>\n",
       "      <td>1.522</td>\n",
       "      <td>0.999</td>\n",
       "      <td>0.557</td>\n",
       "      <td>0.322</td>\n",
       "      <td>0.298</td>\n",
       "      <td>100</td>\n",
       "      <td>...</td>\n",
       "      <td>NaN</td>\n",
       "      <td>NaN</td>\n",
       "      <td>NaN</td>\n",
       "      <td>NaN</td>\n",
       "      <td>NaN</td>\n",
       "      <td>NaN</td>\n",
       "      <td>18.5</td>\n",
       "      <td>100</td>\n",
       "      <td>2.5</td>\n",
       "      <td>0.2</td>\n",
       "    </tr>\n",
       "  </tbody>\n",
       "</table>\n",
       "<p>5 rows × 454 columns</p>\n",
       "</div>"
      ],
      "text/plain": [
       "   Overall rank Country or region  Score  GDP per capita  Social support  \\\n",
       "0             1           Finland  7.769           1.340           1.587   \n",
       "1             2           Denmark  7.600           1.383           1.573   \n",
       "2             3            Norway  7.554           1.488           1.582   \n",
       "3             4           Iceland  7.494           1.380           1.624   \n",
       "4             5       Netherlands  7.488           1.396           1.522   \n",
       "\n",
       "   Healthy life expectancy  Freedom to make life choices  Generosity  \\\n",
       "0                    0.986                         0.596       0.153   \n",
       "1                    0.996                         0.592       0.252   \n",
       "2                    1.028                         0.603       0.271   \n",
       "3                    1.026                         0.591       0.354   \n",
       "4                    0.999                         0.557       0.322   \n",
       "\n",
       "   Perceptions of corruption AIDS estimated deaths (UNAIDS estimates)  ...  \\\n",
       "0                      0.393                                      NaN  ...   \n",
       "1                      0.410                                      100  ...   \n",
       "2                      0.341                                      100  ...   \n",
       "3                      0.118                                      100  ...   \n",
       "4                      0.298                                      100  ...   \n",
       "\n",
       "  Urban poverty headcount ratio at national poverty lines (% of urban population)  \\\n",
       "0                                                NaN                                \n",
       "1                                                NaN                                \n",
       "2                                                NaN                                \n",
       "3                                                NaN                                \n",
       "4                                                NaN                                \n",
       "\n",
       "  Use of insecticide-treated bed nets (% of under-5 population)  \\\n",
       "0                                                NaN              \n",
       "1                                                NaN              \n",
       "2                                                NaN              \n",
       "3                                                NaN              \n",
       "4                                                NaN              \n",
       "\n",
       "  Vitamin A supplementation coverage rate (% of children ages 6-59 months)  \\\n",
       "0                                                NaN                         \n",
       "1                                                NaN                         \n",
       "2                                                NaN                         \n",
       "3                                                NaN                         \n",
       "4                                                NaN                         \n",
       "\n",
       "  Wanted fertility rate (births per woman)  \\\n",
       "0                                      NaN   \n",
       "1                                      NaN   \n",
       "2                                      NaN   \n",
       "3                                      NaN   \n",
       "4                                      NaN   \n",
       "\n",
       "  Women who were first married by age 15 (% of women ages 20-24)  \\\n",
       "0                                                NaN               \n",
       "1                                                NaN               \n",
       "2                                                NaN               \n",
       "3                                                NaN               \n",
       "4                                                NaN               \n",
       "\n",
       "  Women who were first married by age 18 (% of women ages 20-24)  \\\n",
       "0                                                NaN               \n",
       "1                                                NaN               \n",
       "2                                                NaN               \n",
       "3                                                NaN               \n",
       "4                                                NaN               \n",
       "\n",
       "  Women's share of population ages 15+ living with HIV (%)  \\\n",
       "0                                               26.6         \n",
       "1                                               25.9         \n",
       "2                                               31.6         \n",
       "3                                               30.5         \n",
       "4                                               18.5         \n",
       "\n",
       "  Young people (ages 15-24) newly infected with HIV  \\\n",
       "0                                               NaN   \n",
       "1                                               100   \n",
       "2                                               100   \n",
       "3                                               100   \n",
       "4                                               100   \n",
       "\n",
       "  Prevalence of undernourishment (percent of population)  \\\n",
       "0                                                2.5       \n",
       "1                                                2.5       \n",
       "2                                                2.5       \n",
       "3                                                2.5       \n",
       "4                                                2.5       \n",
       "\n",
       "  Prevalence of HIV, total (percent of population ages 15-49)  \n",
       "0                                                NaN           \n",
       "1                                                0.1           \n",
       "2                                                0.1           \n",
       "3                                                0.1           \n",
       "4                                                0.2           \n",
       "\n",
       "[5 rows x 454 columns]"
      ]
     },
     "execution_count": 5,
     "metadata": {},
     "output_type": "execute_result"
    }
   ],
   "source": [
    "test = happy_merged.replace('..', np.nan)\n",
    "test[\"Prevalence of undernourishment (percent of population)\"] = pd.to_numeric(test[\"Prevalence of undernourishment (% of population)\"])\n",
    "test[\"Prevalence of HIV, total (percent of population ages 15-49)\"] = pd.to_numeric(test[\"Prevalence of HIV, total (% of population ages 15-49)\"])\n",
    "test[\"Net migration\"] = pd.to_numeric(test[\"Net migration\"])\n",
    "test[\"Current health expenditure per capita, PPP (current international $)\"] = pd.to_numeric(test[\"Current health expenditure per capita, PPP (current international $)\"])\n",
    "\n",
    "test.head()"
   ]
  },
  {
   "cell_type": "code",
   "execution_count": 6,
   "metadata": {},
   "outputs": [
    {
     "data": {
      "text/plain": [
       "<AxesSubplot:xlabel='Prevalence of undernourishment (percent of population)', ylabel='Count'>"
      ]
     },
     "execution_count": 6,
     "metadata": {},
     "output_type": "execute_result"
    },
    {
     "data": {
      "image/png": "[encoded data removed]",
      "text/plain": [
       "<Figure size 432x288 with 1 Axes>"
      ]
     },
     "metadata": {
      "needs_background": "light"
     },
     "output_type": "display_data"
    }
   ],
   "source": [
    "sns.histplot(data = test, x = \"Prevalence of undernourishment (percent of population)\")"
   ]
  },
  {
   "cell_type": "code",
   "execution_count": 7,
   "metadata": {},
   "outputs": [
    {
     "data": {
      "text/plain": [
       "<AxesSubplot:xlabel='Prevalence of HIV, total (percent of population ages 15-49)', ylabel='Count'>"
      ]
     },
     "execution_count": 7,
     "metadata": {},
     "output_type": "execute_result"
    },
    {
     "data": {
      "image/png": "[encoded data removed]",
      "text/plain": [
       "<Figure size 432x288 with 1 Axes>"
      ]
     },
     "metadata": {
      "needs_background": "light"
     },
     "output_type": "display_data"
    }
   ],
   "source": [
    "sns.histplot(data = test, x = \"Prevalence of HIV, total (percent of population ages 15-49)\", bins = 10)"
   ]
  },
  {
   "cell_type": "code",
   "execution_count": 8,
   "metadata": {},
   "outputs": [
    {
     "data": {
      "text/plain": [
       "<AxesSubplot:xlabel='Current health expenditure per capita, PPP (current international $)', ylabel='Count'>"
      ]
     },
     "execution_count": 8,
     "metadata": {},
     "output_type": "execute_result"
    },
    {
     "data": {
      "image/png": "[encoded data removed]",
      "text/plain": [
       "<Figure size 432x288 with 1 Axes>"
      ]
     },
     "metadata": {
      "needs_background": "light"
     },
     "output_type": "display_data"
    }
   ],
   "source": [
    "sns.histplot(data = test, x = \"Current health expenditure per capita, PPP (current international $)\", bins = 20)"
   ]
  },
  {
   "cell_type": "code",
   "execution_count": 9,
   "metadata": {},
   "outputs": [
    {
     "data": {
      "text/plain": [
       "<AxesSubplot:xlabel='Net migration', ylabel='Count'>"
      ]
     },
     "execution_count": 9,
     "metadata": {},
     "output_type": "execute_result"
    },
    {
     "data": {
      "image/png": "[encoded data removed]",
      "text/plain": [
       "<Figure size 432x288 with 1 Axes>"
      ]
     },
     "metadata": {
      "needs_background": "light"
     },
     "output_type": "display_data"
    }
   ],
   "source": [
    "sns.histplot(data = test, x = \"Net migration\", bins = 30)"
   ]
  },
  {
   "cell_type": "code",
   "execution_count": 10,
   "metadata": {},
   "outputs": [
    {
     "data": {
      "text/plain": [
       "<seaborn.axisgrid.FacetGrid at 0x212ebf79490>"
      ]
     },
     "execution_count": 10,
     "metadata": {},
     "output_type": "execute_result"
    },
    {
     "data": {
      "image/png": "[encoded data removed]",
      "text/plain": [
       "<Figure size 360x360 with 1 Axes>"
      ]
     },
     "metadata": {
      "needs_background": "light"
     },
     "output_type": "display_data"
    }
   ],
   "source": [
    "sns.relplot(x = \"Score\", y = \"Prevalence of HIV, total (% of population ages 15-49)\", data = test)"
   ]
  },
  {
   "cell_type": "code",
   "execution_count": 11,
   "metadata": {},
   "outputs": [
    {
     "data": {
      "text/plain": [
       "<seaborn.axisgrid.FacetGrid at 0x212ebfbaac0>"
      ]
     },
     "execution_count": 11,
     "metadata": {},
     "output_type": "execute_result"
    },
    {
     "data": {
      "image/png": "[encoded data removed]",
      "text/plain": [
       "<Figure size 360x360 with 1 Axes>"
      ]
     },
     "metadata": {
      "needs_background": "light"
     },
     "output_type": "display_data"
    }
   ],
   "source": [
    "sns.relplot(x = \"Score\", y = \"Prevalence of undernourishment (% of population)\", data = test)"
   ]
  },
  {
   "cell_type": "code",
   "execution_count": 12,
   "metadata": {},
   "outputs": [
    {
     "data": {
      "text/plain": [
       "<seaborn.axisgrid.FacetGrid at 0x212ee1c5ac0>"
      ]
     },
     "execution_count": 12,
     "metadata": {},
     "output_type": "execute_result"
    },
    {
     "data": {
      "image/png": "[encoded data removed]",
      "text/plain": [
       "<Figure size 360x360 with 1 Axes>"
      ]
     },
     "metadata": {
      "needs_background": "light"
     },
     "output_type": "display_data"
    }
   ],
   "source": [
    "sns.relplot(x = \"Score\", y = \"Net migration\", data = test)  # Initially does not look like there is much of a relationship"
   ]
  },
  {
   "cell_type": "code",
   "execution_count": 13,
   "metadata": {},
   "outputs": [
    {
     "data": {
      "text/plain": [
       "<seaborn.axisgrid.FacetGrid at 0x212ee257490>"
      ]
     },
     "execution_count": 13,
     "metadata": {},
     "output_type": "execute_result"
    },
    {
     "data": {
      "image/png": "[encoded data removed]",
      "text/plain": [
       "<Figure size 360x360 with 1 Axes>"
      ]
     },
     "metadata": {
      "needs_background": "light"
     },
     "output_type": "display_data"
    }
   ],
   "source": [
    "sns.relplot(x = \"Score\", y = \"Current health expenditure per capita, PPP (current international $)\", data = test)"
   ]
  },
  {
   "cell_type": "code",
   "execution_count": 14,
   "metadata": {},
   "outputs": [
    {
     "data": {
      "text/html": [
       "<div>\n",
       "<style scoped>\n",
       "    .dataframe tbody tr th:only-of-type {\n",
       "        vertical-align: middle;\n",
       "    }\n",
       "\n",
       "    .dataframe tbody tr th {\n",
       "        vertical-align: top;\n",
       "    }\n",
       "\n",
       "    .dataframe thead th {\n",
       "        text-align: right;\n",
       "    }\n",
       "</style>\n",
       "<table border=\"1\" class=\"dataframe\">\n",
       "  <thead>\n",
       "    <tr style=\"text-align: right;\">\n",
       "      <th></th>\n",
       "      <th>Country or region</th>\n",
       "      <th>Current health expenditure per capita, PPP (current international $)</th>\n",
       "      <th>Prevalence of undernourishment (percent of population)</th>\n",
       "      <th>Net migration</th>\n",
       "      <th>Prevalence of HIV, total (percent of population ages 15-49)</th>\n",
       "    </tr>\n",
       "  </thead>\n",
       "  <tbody>\n",
       "    <tr>\n",
       "      <th>0</th>\n",
       "      <td>Finland</td>\n",
       "      <td>4710.218262</td>\n",
       "      <td>2.5</td>\n",
       "      <td>15558</td>\n",
       "      <td>NaN</td>\n",
       "    </tr>\n",
       "    <tr>\n",
       "      <th>6</th>\n",
       "      <td>Sweden</td>\n",
       "      <td>6222.659180</td>\n",
       "      <td>2.5</td>\n",
       "      <td>81585</td>\n",
       "      <td>NaN</td>\n",
       "    </tr>\n",
       "    <tr>\n",
       "      <th>8</th>\n",
       "      <td>Canada</td>\n",
       "      <td>5520.651367</td>\n",
       "      <td>2.5</td>\n",
       "      <td>391914</td>\n",
       "      <td>NaN</td>\n",
       "    </tr>\n",
       "    <tr>\n",
       "      <th>9</th>\n",
       "      <td>Austria</td>\n",
       "      <td>6134.131348</td>\n",
       "      <td>2.5</td>\n",
       "      <td>41105</td>\n",
       "      <td>NaN</td>\n",
       "    </tr>\n",
       "    <tr>\n",
       "      <th>12</th>\n",
       "      <td>Israel</td>\n",
       "      <td>3326.252930</td>\n",
       "      <td>2.5</td>\n",
       "      <td>16132</td>\n",
       "      <td>NaN</td>\n",
       "    </tr>\n",
       "    <tr>\n",
       "      <th>14</th>\n",
       "      <td>United Kingdom</td>\n",
       "      <td>5087.381348</td>\n",
       "      <td>2.5</td>\n",
       "      <td>221179</td>\n",
       "      <td>NaN</td>\n",
       "    </tr>\n",
       "    <tr>\n",
       "      <th>17</th>\n",
       "      <td>Belgium</td>\n",
       "      <td>5846.896484</td>\n",
       "      <td>2.5</td>\n",
       "      <td>54395</td>\n",
       "      <td>NaN</td>\n",
       "    </tr>\n",
       "    <tr>\n",
       "      <th>19</th>\n",
       "      <td>Czech Republic</td>\n",
       "      <td>3477.025879</td>\n",
       "      <td>2.5</td>\n",
       "      <td>4030</td>\n",
       "      <td>NaN</td>\n",
       "    </tr>\n",
       "    <tr>\n",
       "      <th>20</th>\n",
       "      <td>United Arab Emirates</td>\n",
       "      <td>2996.363281</td>\n",
       "      <td>6.0</td>\n",
       "      <td>-4466</td>\n",
       "      <td>NaN</td>\n",
       "    </tr>\n",
       "    <tr>\n",
       "      <th>21</th>\n",
       "      <td>Malta</td>\n",
       "      <td>4039.614990</td>\n",
       "      <td>2.5</td>\n",
       "      <td>11247</td>\n",
       "      <td>NaN</td>\n",
       "    </tr>\n",
       "    <tr>\n",
       "      <th>26</th>\n",
       "      <td>Saudi Arabia</td>\n",
       "      <td>2789.559814</td>\n",
       "      <td>3.9</td>\n",
       "      <td>241172</td>\n",
       "      <td>NaN</td>\n",
       "    </tr>\n",
       "    <tr>\n",
       "      <th>29</th>\n",
       "      <td>Panama</td>\n",
       "      <td>2490.947754</td>\n",
       "      <td>5.4</td>\n",
       "      <td>10623</td>\n",
       "      <td>NaN</td>\n",
       "    </tr>\n",
       "    <tr>\n",
       "      <th>38</th>\n",
       "      <td>Poland</td>\n",
       "      <td>2206.535645</td>\n",
       "      <td>2.5</td>\n",
       "      <td>-2974</td>\n",
       "      <td>NaN</td>\n",
       "    </tr>\n",
       "    <tr>\n",
       "      <th>44</th>\n",
       "      <td>Kosovo</td>\n",
       "      <td>NaN</td>\n",
       "      <td>NaN</td>\n",
       "      <td>-33469</td>\n",
       "      <td>NaN</td>\n",
       "    </tr>\n",
       "    <tr>\n",
       "      <th>49</th>\n",
       "      <td>Kuwait</td>\n",
       "      <td>2861.192871</td>\n",
       "      <td>2.5</td>\n",
       "      <td>9088</td>\n",
       "      <td>NaN</td>\n",
       "    </tr>\n",
       "    <tr>\n",
       "      <th>52</th>\n",
       "      <td>South Korea</td>\n",
       "      <td>3521.326172</td>\n",
       "      <td>2.5</td>\n",
       "      <td>110799</td>\n",
       "      <td>NaN</td>\n",
       "    </tr>\n",
       "    <tr>\n",
       "      <th>53</th>\n",
       "      <td>Estonia</td>\n",
       "      <td>2616.813965</td>\n",
       "      <td>2.5</td>\n",
       "      <td>5410</td>\n",
       "      <td>NaN</td>\n",
       "    </tr>\n",
       "    <tr>\n",
       "      <th>56</th>\n",
       "      <td>Japan</td>\n",
       "      <td>4587.034668</td>\n",
       "      <td>2.8</td>\n",
       "      <td>183953</td>\n",
       "      <td>NaN</td>\n",
       "    </tr>\n",
       "    <tr>\n",
       "      <th>60</th>\n",
       "      <td>Hungary</td>\n",
       "      <td>2155.909424</td>\n",
       "      <td>2.5</td>\n",
       "      <td>33559</td>\n",
       "      <td>NaN</td>\n",
       "    </tr>\n",
       "    <tr>\n",
       "      <th>65</th>\n",
       "      <td>Russia</td>\n",
       "      <td>1704.039673</td>\n",
       "      <td>2.5</td>\n",
       "      <td>333509</td>\n",
       "      <td>NaN</td>\n",
       "    </tr>\n",
       "    <tr>\n",
       "      <th>73</th>\n",
       "      <td>Hong Kong</td>\n",
       "      <td>NaN</td>\n",
       "      <td>2.5</td>\n",
       "      <td>0</td>\n",
       "      <td>NaN</td>\n",
       "    </tr>\n",
       "    <tr>\n",
       "      <th>75</th>\n",
       "      <td>Bosnia and Herzegovina</td>\n",
       "      <td>1476.801392</td>\n",
       "      <td>2.5</td>\n",
       "      <td>-27848</td>\n",
       "      <td>NaN</td>\n",
       "    </tr>\n",
       "    <tr>\n",
       "      <th>76</th>\n",
       "      <td>Turkey</td>\n",
       "      <td>1186.739258</td>\n",
       "      <td>2.5</td>\n",
       "      <td>-218341</td>\n",
       "      <td>NaN</td>\n",
       "    </tr>\n",
       "    <tr>\n",
       "      <th>81</th>\n",
       "      <td>North Macedonia</td>\n",
       "      <td>1313.557129</td>\n",
       "      <td>3.1</td>\n",
       "      <td>-987</td>\n",
       "      <td>NaN</td>\n",
       "    </tr>\n",
       "    <tr>\n",
       "      <th>84</th>\n",
       "      <td>Turkmenistan</td>\n",
       "      <td>1063.843506</td>\n",
       "      <td>3.5</td>\n",
       "      <td>-9612</td>\n",
       "      <td>NaN</td>\n",
       "    </tr>\n",
       "    <tr>\n",
       "      <th>90</th>\n",
       "      <td>China</td>\n",
       "      <td>880.191284</td>\n",
       "      <td>2.5</td>\n",
       "      <td>-302609</td>\n",
       "      <td>NaN</td>\n",
       "    </tr>\n",
       "    <tr>\n",
       "      <th>98</th>\n",
       "      <td>Jordan</td>\n",
       "      <td>797.451965</td>\n",
       "      <td>14.6</td>\n",
       "      <td>28963</td>\n",
       "      <td>NaN</td>\n",
       "    </tr>\n",
       "    <tr>\n",
       "      <th>107</th>\n",
       "      <td>Palestinian Territories</td>\n",
       "      <td>NaN</td>\n",
       "      <td>NaN</td>\n",
       "      <td>-24737</td>\n",
       "      <td>NaN</td>\n",
       "    </tr>\n",
       "    <tr>\n",
       "      <th>113</th>\n",
       "      <td>Armenia</td>\n",
       "      <td>1616.177856</td>\n",
       "      <td>3.1</td>\n",
       "      <td>-25363</td>\n",
       "      <td>NaN</td>\n",
       "    </tr>\n",
       "    <tr>\n",
       "      <th>120</th>\n",
       "      <td>Mozambique</td>\n",
       "      <td>104.819954</td>\n",
       "      <td>31.8</td>\n",
       "      <td>-17639</td>\n",
       "      <td>NaN</td>\n",
       "    </tr>\n",
       "    <tr>\n",
       "      <th>123</th>\n",
       "      <td>Iraq</td>\n",
       "      <td>483.338898</td>\n",
       "      <td>17.4</td>\n",
       "      <td>-29880</td>\n",
       "      <td>NaN</td>\n",
       "    </tr>\n",
       "  </tbody>\n",
       "</table>\n",
       "</div>"
      ],
      "text/plain": [
       "           Country or region  \\\n",
       "0                    Finland   \n",
       "6                     Sweden   \n",
       "8                     Canada   \n",
       "9                    Austria   \n",
       "12                    Israel   \n",
       "14            United Kingdom   \n",
       "17                   Belgium   \n",
       "19            Czech Republic   \n",
       "20      United Arab Emirates   \n",
       "21                     Malta   \n",
       "26              Saudi Arabia   \n",
       "29                    Panama   \n",
       "38                    Poland   \n",
       "44                    Kosovo   \n",
       "49                    Kuwait   \n",
       "52               South Korea   \n",
       "53                   Estonia   \n",
       "56                     Japan   \n",
       "60                   Hungary   \n",
       "65                    Russia   \n",
       "73                 Hong Kong   \n",
       "75    Bosnia and Herzegovina   \n",
       "76                    Turkey   \n",
       "81           North Macedonia   \n",
       "84              Turkmenistan   \n",
       "90                     China   \n",
       "98                    Jordan   \n",
       "107  Palestinian Territories   \n",
       "113                  Armenia   \n",
       "120               Mozambique   \n",
       "123                     Iraq   \n",
       "\n",
       "     Current health expenditure per capita, PPP (current international $)  \\\n",
       "0                                          4710.218262                      \n",
       "6                                          6222.659180                      \n",
       "8                                          5520.651367                      \n",
       "9                                          6134.131348                      \n",
       "12                                         3326.252930                      \n",
       "14                                         5087.381348                      \n",
       "17                                         5846.896484                      \n",
       "19                                         3477.025879                      \n",
       "20                                         2996.363281                      \n",
       "21                                         4039.614990                      \n",
       "26                                         2789.559814                      \n",
       "29                                         2490.947754                      \n",
       "38                                         2206.535645                      \n",
       "44                                                 NaN                      \n",
       "49                                         2861.192871                      \n",
       "52                                         3521.326172                      \n",
       "53                                         2616.813965                      \n",
       "56                                         4587.034668                      \n",
       "60                                         2155.909424                      \n",
       "65                                         1704.039673                      \n",
       "73                                                 NaN                      \n",
       "75                                         1476.801392                      \n",
       "76                                         1186.739258                      \n",
       "81                                         1313.557129                      \n",
       "84                                         1063.843506                      \n",
       "90                                          880.191284                      \n",
       "98                                          797.451965                      \n",
       "107                                                NaN                      \n",
       "113                                        1616.177856                      \n",
       "120                                         104.819954                      \n",
       "123                                         483.338898                      \n",
       "\n",
       "     Prevalence of undernourishment (percent of population)  Net migration  \\\n",
       "0                                                  2.5               15558   \n",
       "6                                                  2.5               81585   \n",
       "8                                                  2.5              391914   \n",
       "9                                                  2.5               41105   \n",
       "12                                                 2.5               16132   \n",
       "14                                                 2.5              221179   \n",
       "17                                                 2.5               54395   \n",
       "19                                                 2.5                4030   \n",
       "20                                                 6.0               -4466   \n",
       "21                                                 2.5               11247   \n",
       "26                                                 3.9              241172   \n",
       "29                                                 5.4               10623   \n",
       "38                                                 2.5               -2974   \n",
       "44                                                 NaN              -33469   \n",
       "49                                                 2.5                9088   \n",
       "52                                                 2.5              110799   \n",
       "53                                                 2.5                5410   \n",
       "56                                                 2.8              183953   \n",
       "60                                                 2.5               33559   \n",
       "65                                                 2.5              333509   \n",
       "73                                                 2.5                   0   \n",
       "75                                                 2.5              -27848   \n",
       "76                                                 2.5             -218341   \n",
       "81                                                 3.1                -987   \n",
       "84                                                 3.5               -9612   \n",
       "90                                                 2.5             -302609   \n",
       "98                                                14.6               28963   \n",
       "107                                                NaN              -24737   \n",
       "113                                                3.1              -25363   \n",
       "120                                               31.8              -17639   \n",
       "123                                               17.4              -29880   \n",
       "\n",
       "     Prevalence of HIV, total (percent of population ages 15-49)  \n",
       "0                                                  NaN            \n",
       "6                                                  NaN            \n",
       "8                                                  NaN            \n",
       "9                                                  NaN            \n",
       "12                                                 NaN            \n",
       "14                                                 NaN            \n",
       "17                                                 NaN            \n",
       "19                                                 NaN            \n",
       "20                                                 NaN            \n",
       "21                                                 NaN            \n",
       "26                                                 NaN            \n",
       "29                                                 NaN            \n",
       "38                                                 NaN            \n",
       "44                                                 NaN            \n",
       "49                                                 NaN            \n",
       "52                                                 NaN            \n",
       "53                                                 NaN            \n",
       "56                                                 NaN            \n",
       "60                                                 NaN            \n",
       "65                                                 NaN            \n",
       "73                                                 NaN            \n",
       "75                                                 NaN            \n",
       "76                                                 NaN            \n",
       "81                                                 NaN            \n",
       "84                                                 NaN            \n",
       "90                                                 NaN            \n",
       "98                                                 NaN            \n",
       "107                                                NaN            \n",
       "113                                                NaN            \n",
       "120                                                NaN            \n",
       "123                                                NaN            "
      ]
     },
     "execution_count": 14,
     "metadata": {},
     "output_type": "execute_result"
    }
   ],
   "source": [
    "\"\"\"\n",
    "We will attempt to data mine information from the variables.\n",
    "\n",
    "Thus, we will not be train/test splitting nor standardizing data or using \n",
    "regularization methods, for now.\n",
    "\"\"\"\n",
    "X = test[[\"Country or region\",\n",
    "          \"Current health expenditure per capita, PPP (current international $)\",\n",
    "          \"Prevalence of undernourishment (percent of population)\",\n",
    "          \"Net migration\",\n",
    "          \"Prevalence of HIV, total (percent of population ages 15-49)\"]]\n",
    "y = test[[\"Score\"]]\n",
    "\n",
    "\n",
    "X[X[\"Prevalence of HIV, total (percent of population ages 15-49)\"].isna()]"
   ]
  },
  {
   "cell_type": "markdown",
   "metadata": {},
   "source": [
    "One of the first big challenges we run into is missing data. Given the extremely limited amount of observations we have (155), it would be foolish to drop rows with missing entries. Instead, we can use a variation of monte carlo simulation from module 3. Specifically, we will use Markov Chain Monte Carlo (MCMC) to impute missing entries from a multivariate normal distribution. This will undoubtedly give us the most accurate values for missing data and perform better than mean replacement/row dropping."
   ]
  },
  {
   "cell_type": "code",
   "execution_count": 15,
   "metadata": {},
   "outputs": [
    {
     "ename": "NameError",
     "evalue": "name 'LinearRegression' is not defined",
     "output_type": "error",
     "traceback": [
      "\u001b[1;31m---------------------------------------------------------------------------\u001b[0m",
      "\u001b[1;31mNameError\u001b[0m                                 Traceback (most recent call last)",
      "\u001b[1;32m<ipython-input-15-48f8821a84ae>\u001b[0m in \u001b[0;36m<module>\u001b[1;34m\u001b[0m\n\u001b[1;32m----> 1\u001b[1;33m \u001b[0mlm\u001b[0m \u001b[1;33m=\u001b[0m \u001b[0mLinearRegression\u001b[0m\u001b[1;33m(\u001b[0m\u001b[1;33m)\u001b[0m\u001b[1;33m\u001b[0m\u001b[1;33m\u001b[0m\u001b[0m\n\u001b[0m\u001b[0;32m      2\u001b[0m \u001b[0mprint\u001b[0m\u001b[1;33m(\u001b[0m\u001b[0mX\u001b[0m\u001b[1;33m.\u001b[0m\u001b[0mhead\u001b[0m\u001b[1;33m(\u001b[0m\u001b[1;33m)\u001b[0m\u001b[1;33m)\u001b[0m\u001b[1;33m\u001b[0m\u001b[1;33m\u001b[0m\u001b[0m\n\u001b[0;32m      3\u001b[0m \u001b[0mlm\u001b[0m\u001b[1;33m.\u001b[0m\u001b[0mfit\u001b[0m\u001b[1;33m(\u001b[0m\u001b[0mX\u001b[0m\u001b[1;33m,\u001b[0m \u001b[0my\u001b[0m\u001b[1;33m)\u001b[0m\u001b[1;33m\u001b[0m\u001b[1;33m\u001b[0m\u001b[0m\n\u001b[0;32m      4\u001b[0m \u001b[0mlm\u001b[0m\u001b[1;33m.\u001b[0m\u001b[0mcoef_\u001b[0m\u001b[1;33m\u001b[0m\u001b[1;33m\u001b[0m\u001b[0m\n",
      "\u001b[1;31mNameError\u001b[0m: name 'LinearRegression' is not defined"
     ]
    }
   ],
   "source": [
    "lm = LinearRegression()\n",
    "print(X.head())\n",
    "lm.fit(X, y)\n",
    "lm.coef_"
   ]
  }
 ],
 "metadata": {
  "kernelspec": {
   "display_name": "Python 3",
   "language": "python",
   "name": "python3"
  },
  "language_info": {
   "codemirror_mode": {
    "name": "ipython",
    "version": 3
   },
   "file_extension": ".py",
   "mimetype": "text/x-python",
   "name": "python",
   "nbconvert_exporter": "python",
   "pygments_lexer": "ipython3",
   "version": "3.8.5"
  }
 },
 "nbformat": 4,
 "nbformat_minor": 2
}
