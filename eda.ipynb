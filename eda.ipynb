{
 "cells": [
  {
   "cell_type": "code",
   "execution_count": 1,
   "metadata": {},
   "outputs": [],
   "source": [
    "import numpy as np\n",
    "import pandas as pd\n",
    "import seaborn as sns"
   ]
  },
  {
   "cell_type": "code",
   "execution_count": 2,
   "metadata": {},
   "outputs": [],
   "source": [
    "happy = pd.read_csv(\"data/Happiness.csv\")\n",
    "nutrition = pd.read_csv(\"data/nutrition_data.csv\")[:96131]  # 2019 only to match timescale of happiness data\n",
    "\n",
    "nutrition_final = nutrition.copy()\n",
    "\n",
    "nutrition_final.loc[nutrition[\"Country Name\"] == \"Russian Federation\", \"Country Name\"] = \"Russia\"\n",
    "nutrition_final.loc[nutrition[\"Country Name\"] == \"Czechia\", \"Country Name\"] = \"Czech Republic\"\n",
    "nutrition_final.loc[nutrition[\"Country Name\"] == \"Trinidad and Tobago\", \"Country Name\"] = \"Trinidad & Tobago\"\n",
    "nutrition_final.loc[nutrition[\"Country Name\"] == \"Hong Kong SAR, China\", \"Country Name\"] = \"Hong Kong\"\n",
    "nutrition_final.loc[nutrition[\"Country Name\"] == \"Cote d'Ivoire\", \"Country Name\"] = \"Ivory Coast\"\n",
    "nutrition_final.loc[nutrition[\"Country Name\"] == \"Congo, Rep.\", \"Country Name\"] = \"Congo (Brazzaville)\"\n",
    "nutrition_final.loc[nutrition[\"Country Name\"] == \"Congo, Dem. Rep.\", \"Country Name\"] = \"Congo (Kinshasa)\"\n",
    "nutrition_final.loc[nutrition[\"Country Name\"] == \"Lao PDR\", \"Country Name\"] = \"Laos\"\n",
    "nutrition_final.loc[nutrition[\"Country Name\"] == \"Iran, Islamic Rep.\", \"Country Name\"] = \"Iran\"\n",
    "nutrition_final.loc[nutrition[\"Country Name\"] == \"Kyrgyz Republic\", \"Country Name\"] = \"Kyrgyzstan\"\n",
    "nutrition_final.loc[nutrition[\"Country Name\"] == \"Slovak Republic\", \"Country Name\"] = \"Slovakia\"\n",
    "nutrition_final.loc[nutrition[\"Country Name\"] == \"Turkiye\", \"Country Name\"] = \"Turkey\"\n",
    "nutrition_final.loc[nutrition[\"Country Name\"] == \"Venezuela, RB\", \"Country Name\"] = \"Venezuela\"\n",
    "nutrition_final.loc[nutrition[\"Country Name\"] == \"Egypt, Arab Rep.\", \"Country Name\"] = \"Egypt\"\n",
    "nutrition_final.loc[nutrition[\"Country Name\"] == \"Syrian Arab Republic\", \"Country Name\"] = \"Syria\"\n",
    "nutrition_final.loc[nutrition[\"Country Name\"] == \"Yemen, Rep.\", \"Country Name\"] = \"Yemen\"\n",
    "nutrition_final.loc[nutrition[\"Country Name\"] == \"West Bank and Gaza\", \"Country Name\"] = \"Palestinian Territories\"\n",
    "nutrition_final.loc[nutrition[\"Country Name\"] == \"Korea, Rep.\", \"Country Name\"] = \"South Korea\"\n",
    "nutrition_final.loc[nutrition[\"Country Name\"] == \"Gambia, The\", \"Country Name\"] = \"Gambia\"\n",
    "nutrition_final.loc[nutrition[\"Country Name\"] == \"Eswatini\", \"Country Name\"] = \"Swaziland\""
   ]
  },
  {
   "cell_type": "code",
   "execution_count": 3,
   "metadata": {},
   "outputs": [],
   "source": [
    "nutrition_wide = nutrition_final.pivot(index = \"Country Name\", \n",
    "                                 columns = \"Series Name\", \n",
    "                                 values = \"2019 [YR2019]\")"
   ]
  },
  {
   "cell_type": "code",
   "execution_count": 4,
   "metadata": {},
   "outputs": [],
   "source": [
    "happy_merged = pd.merge(happy, nutrition_wide, how = \"inner\", \n",
    "                        right_on = \"Country Name\", \n",
    "                        left_on = \"Country or region\") # excluded Taiwan and Northern Cyprus"
   ]
  },
  {
   "cell_type": "code",
   "execution_count": 5,
   "metadata": {},
   "outputs": [
    {
     "data": {
      "text/html": [
       "<div>\n",
       "<style scoped>\n",
       "    .dataframe tbody tr th:only-of-type {\n",
       "        vertical-align: middle;\n",
       "    }\n",
       "\n",
       "    .dataframe tbody tr th {\n",
       "        vertical-align: top;\n",
       "    }\n",
       "\n",
       "    .dataframe thead th {\n",
       "        text-align: right;\n",
       "    }\n",
       "</style>\n",
       "<table border=\"1\" class=\"dataframe\">\n",
       "  <thead>\n",
       "    <tr style=\"text-align: right;\">\n",
       "      <th></th>\n",
       "      <th>Overall rank</th>\n",
       "      <th>Country or region</th>\n",
       "      <th>Score</th>\n",
       "      <th>GDP per capita</th>\n",
       "      <th>Social support</th>\n",
       "      <th>Healthy life expectancy</th>\n",
       "      <th>Freedom to make life choices</th>\n",
       "      <th>Generosity</th>\n",
       "      <th>Perceptions of corruption</th>\n",
       "      <th>AIDS estimated deaths (UNAIDS estimates)</th>\n",
       "      <th>...</th>\n",
       "      <th>Urban poverty headcount ratio at national poverty lines (% of urban population)</th>\n",
       "      <th>Use of insecticide-treated bed nets (% of under-5 population)</th>\n",
       "      <th>Vitamin A supplementation coverage rate (% of children ages 6-59 months)</th>\n",
       "      <th>Wanted fertility rate (births per woman)</th>\n",
       "      <th>Women who were first married by age 15 (% of women ages 20-24)</th>\n",
       "      <th>Women who were first married by age 18 (% of women ages 20-24)</th>\n",
       "      <th>Women's share of population ages 15+ living with HIV (%)</th>\n",
       "      <th>Young people (ages 15-24) newly infected with HIV</th>\n",
       "      <th>Prevalence of undernourishment (percent of population)</th>\n",
       "      <th>Prevalence of HIV, total (percent of population ages 15-49)</th>\n",
       "    </tr>\n",
       "  </thead>\n",
       "  <tbody>\n",
       "    <tr>\n",
       "      <th>0</th>\n",
       "      <td>1</td>\n",
       "      <td>Finland</td>\n",
       "      <td>7.769</td>\n",
       "      <td>1.340</td>\n",
       "      <td>1.587</td>\n",
       "      <td>0.986</td>\n",
       "      <td>0.596</td>\n",
       "      <td>0.153</td>\n",
       "      <td>0.393</td>\n",
       "      <td>NaN</td>\n",
       "      <td>...</td>\n",
       "      <td>NaN</td>\n",
       "      <td>NaN</td>\n",
       "      <td>NaN</td>\n",
       "      <td>NaN</td>\n",
       "      <td>NaN</td>\n",
       "      <td>NaN</td>\n",
       "      <td>26.6</td>\n",
       "      <td>NaN</td>\n",
       "      <td>2.5</td>\n",
       "      <td>NaN</td>\n",
       "    </tr>\n",
       "    <tr>\n",
       "      <th>1</th>\n",
       "      <td>2</td>\n",
       "      <td>Denmark</td>\n",
       "      <td>7.600</td>\n",
       "      <td>1.383</td>\n",
       "      <td>1.573</td>\n",
       "      <td>0.996</td>\n",
       "      <td>0.592</td>\n",
       "      <td>0.252</td>\n",
       "      <td>0.410</td>\n",
       "      <td>100</td>\n",
       "      <td>...</td>\n",
       "      <td>NaN</td>\n",
       "      <td>NaN</td>\n",
       "      <td>NaN</td>\n",
       "      <td>NaN</td>\n",
       "      <td>NaN</td>\n",
       "      <td>NaN</td>\n",
       "      <td>25.9</td>\n",
       "      <td>100</td>\n",
       "      <td>2.5</td>\n",
       "      <td>0.1</td>\n",
       "    </tr>\n",
       "    <tr>\n",
       "      <th>2</th>\n",
       "      <td>3</td>\n",
       "      <td>Norway</td>\n",
       "      <td>7.554</td>\n",
       "      <td>1.488</td>\n",
       "      <td>1.582</td>\n",
       "      <td>1.028</td>\n",
       "      <td>0.603</td>\n",
       "      <td>0.271</td>\n",
       "      <td>0.341</td>\n",
       "      <td>100</td>\n",
       "      <td>...</td>\n",
       "      <td>NaN</td>\n",
       "      <td>NaN</td>\n",
       "      <td>NaN</td>\n",
       "      <td>NaN</td>\n",
       "      <td>NaN</td>\n",
       "      <td>NaN</td>\n",
       "      <td>31.6</td>\n",
       "      <td>100</td>\n",
       "      <td>2.5</td>\n",
       "      <td>0.1</td>\n",
       "    </tr>\n",
       "    <tr>\n",
       "      <th>3</th>\n",
       "      <td>4</td>\n",
       "      <td>Iceland</td>\n",
       "      <td>7.494</td>\n",
       "      <td>1.380</td>\n",
       "      <td>1.624</td>\n",
       "      <td>1.026</td>\n",
       "      <td>0.591</td>\n",
       "      <td>0.354</td>\n",
       "      <td>0.118</td>\n",
       "      <td>100</td>\n",
       "      <td>...</td>\n",
       "      <td>NaN</td>\n",
       "      <td>NaN</td>\n",
       "      <td>NaN</td>\n",
       "      <td>NaN</td>\n",
       "      <td>NaN</td>\n",
       "      <td>NaN</td>\n",
       "      <td>30.5</td>\n",
       "      <td>100</td>\n",
       "      <td>2.5</td>\n",
       "      <td>0.1</td>\n",
       "    </tr>\n",
       "    <tr>\n",
       "      <th>4</th>\n",
       "      <td>5</td>\n",
       "      <td>Netherlands</td>\n",
       "      <td>7.488</td>\n",
       "      <td>1.396</td>\n",
       "      <td>1.522</td>\n",
       "      <td>0.999</td>\n",
       "      <td>0.557</td>\n",
       "      <td>0.322</td>\n",
       "      <td>0.298</td>\n",
       "      <td>100</td>\n",
       "      <td>...</td>\n",
       "      <td>NaN</td>\n",
       "      <td>NaN</td>\n",
       "      <td>NaN</td>\n",
       "      <td>NaN</td>\n",
       "      <td>NaN</td>\n",
       "      <td>NaN</td>\n",
       "      <td>18.5</td>\n",
       "      <td>100</td>\n",
       "      <td>2.5</td>\n",
       "      <td>0.2</td>\n",
       "    </tr>\n",
       "  </tbody>\n",
       "</table>\n",
       "<p>5 rows × 454 columns</p>\n",
       "</div>"
      ],
      "text/plain": [
       "   Overall rank Country or region  Score  GDP per capita  Social support  \\\n",
       "0             1           Finland  7.769           1.340           1.587   \n",
       "1             2           Denmark  7.600           1.383           1.573   \n",
       "2             3            Norway  7.554           1.488           1.582   \n",
       "3             4           Iceland  7.494           1.380           1.624   \n",
       "4             5       Netherlands  7.488           1.396           1.522   \n",
       "\n",
       "   Healthy life expectancy  Freedom to make life choices  Generosity  \\\n",
       "0                    0.986                         0.596       0.153   \n",
       "1                    0.996                         0.592       0.252   \n",
       "2                    1.028                         0.603       0.271   \n",
       "3                    1.026                         0.591       0.354   \n",
       "4                    0.999                         0.557       0.322   \n",
       "\n",
       "   Perceptions of corruption AIDS estimated deaths (UNAIDS estimates)  ...  \\\n",
       "0                      0.393                                      NaN  ...   \n",
       "1                      0.410                                      100  ...   \n",
       "2                      0.341                                      100  ...   \n",
       "3                      0.118                                      100  ...   \n",
       "4                      0.298                                      100  ...   \n",
       "\n",
       "  Urban poverty headcount ratio at national poverty lines (% of urban population)  \\\n",
       "0                                                NaN                                \n",
       "1                                                NaN                                \n",
       "2                                                NaN                                \n",
       "3                                                NaN                                \n",
       "4                                                NaN                                \n",
       "\n",
       "  Use of insecticide-treated bed nets (% of under-5 population)  \\\n",
       "0                                                NaN              \n",
       "1                                                NaN              \n",
       "2                                                NaN              \n",
       "3                                                NaN              \n",
       "4                                                NaN              \n",
       "\n",
       "  Vitamin A supplementation coverage rate (% of children ages 6-59 months)  \\\n",
       "0                                                NaN                         \n",
       "1                                                NaN                         \n",
       "2                                                NaN                         \n",
       "3                                                NaN                         \n",
       "4                                                NaN                         \n",
       "\n",
       "  Wanted fertility rate (births per woman)  \\\n",
       "0                                      NaN   \n",
       "1                                      NaN   \n",
       "2                                      NaN   \n",
       "3                                      NaN   \n",
       "4                                      NaN   \n",
       "\n",
       "  Women who were first married by age 15 (% of women ages 20-24)  \\\n",
       "0                                                NaN               \n",
       "1                                                NaN               \n",
       "2                                                NaN               \n",
       "3                                                NaN               \n",
       "4                                                NaN               \n",
       "\n",
       "  Women who were first married by age 18 (% of women ages 20-24)  \\\n",
       "0                                                NaN               \n",
       "1                                                NaN               \n",
       "2                                                NaN               \n",
       "3                                                NaN               \n",
       "4                                                NaN               \n",
       "\n",
       "  Women's share of population ages 15+ living with HIV (%)  \\\n",
       "0                                               26.6         \n",
       "1                                               25.9         \n",
       "2                                               31.6         \n",
       "3                                               30.5         \n",
       "4                                               18.5         \n",
       "\n",
       "  Young people (ages 15-24) newly infected with HIV  \\\n",
       "0                                               NaN   \n",
       "1                                               100   \n",
       "2                                               100   \n",
       "3                                               100   \n",
       "4                                               100   \n",
       "\n",
       "  Prevalence of undernourishment (percent of population)  \\\n",
       "0                                                2.5       \n",
       "1                                                2.5       \n",
       "2                                                2.5       \n",
       "3                                                2.5       \n",
       "4                                                2.5       \n",
       "\n",
       "  Prevalence of HIV, total (percent of population ages 15-49)  \n",
       "0                                                NaN           \n",
       "1                                                0.1           \n",
       "2                                                0.1           \n",
       "3                                                0.1           \n",
       "4                                                0.2           \n",
       "\n",
       "[5 rows x 454 columns]"
      ]
     },
     "execution_count": 5,
     "metadata": {},
     "output_type": "execute_result"
    }
   ],
   "source": [
    "test = happy_merged.replace('..', np.nan)\n",
    "test[\"Prevalence of undernourishment (percent of population)\"] = pd.to_numeric(test[\"Prevalence of undernourishment (% of population)\"])\n",
    "test[\"Prevalence of HIV, total (percent of population ages 15-49)\"] = pd.to_numeric(test[\"Prevalence of HIV, total (% of population ages 15-49)\"])\n",
    "test[\"Net migration\"] = pd.to_numeric(test[\"Net migration\"])\n",
    "test[\"Current health expenditure per capita, PPP (current international $)\"] = pd.to_numeric(test[\"Current health expenditure per capita, PPP (current international $)\"])\n",
    "\n",
    "test.head()"
   ]
  },
  {
   "cell_type": "code",
   "execution_count": 6,
   "metadata": {},
   "outputs": [
    {
     "data": {
      "text/plain": [
       "<AxesSubplot:xlabel='Prevalence of undernourishment (percent of population)', ylabel='Count'>"
      ]
     },
     "execution_count": 6,
     "metadata": {},
     "output_type": "execute_result"
    },
    {
     "data": {
      "image/png": "[encoded data removed]",
      "text/plain": [
       "<Figure size 432x288 with 1 Axes>"
      ]
     },
     "metadata": {
      "needs_background": "light"
     },
     "output_type": "display_data"
    }
   ],
   "source": [
    "sns.histplot(data = test, x = \"Prevalence of undernourishment (percent of population)\")"
   ]
  },
  {
   "cell_type": "code",
   "execution_count": 7,
   "metadata": {},
   "outputs": [
    {
     "data": {
      "text/plain": [
       "[Text(0.5, 1.0, 'Histogram of Score')]"
      ]
     },
     "execution_count": 7,
     "metadata": {},
     "output_type": "execute_result"
    },
    {
     "data": {
      "image/png": "[encoded data removed]",
      "text/plain": [
       "<Figure size 432x288 with 1 Axes>"
      ]
     },
     "metadata": {
      "needs_background": "light"
     },
     "output_type": "display_data"
    }
   ],
   "source": [
    "sns.histplot(data = test, x = \"Score\").set(title = \"Histogram of Score\")"
   ]
  },
  {
   "cell_type": "code",
   "execution_count": 8,
   "metadata": {},
   "outputs": [
    {
     "data": {
      "text/plain": [
       "<AxesSubplot:xlabel='Prevalence of HIV, total (percent of population ages 15-49)', ylabel='Count'>"
      ]
     },
     "execution_count": 8,
     "metadata": {},
     "output_type": "execute_result"
    },
    {
     "data": {
      "image/png": "[encoded data removed]",
      "text/plain": [
       "<Figure size 432x288 with 1 Axes>"
      ]
     },
     "metadata": {
      "needs_background": "light"
     },
     "output_type": "display_data"
    }
   ],
   "source": [
    "sns.histplot(data = test, x = \"Prevalence of HIV, total (percent of population ages 15-49)\", bins = 10)"
   ]
  },
  {
   "cell_type": "code",
   "execution_count": 9,
   "metadata": {},
   "outputs": [
    {
     "data": {
      "text/plain": [
       "<AxesSubplot:xlabel='Current health expenditure per capita, PPP (current international $)', ylabel='Count'>"
      ]
     },
     "execution_count": 9,
     "metadata": {},
     "output_type": "execute_result"
    },
    {
     "data": {
      "image/png": "[encoded data removed]",
      "text/plain": [
       "<Figure size 432x288 with 1 Axes>"
      ]
     },
     "metadata": {
      "needs_background": "light"
     },
     "output_type": "display_data"
    }
   ],
   "source": [
    "sns.histplot(data = test, x = \"Current health expenditure per capita, PPP (current international $)\", bins = 20)"
   ]
  },
  {
   "cell_type": "code",
   "execution_count": 10,
   "metadata": {},
   "outputs": [
    {
     "data": {
      "text/plain": [
       "<AxesSubplot:xlabel='Net migration', ylabel='Count'>"
      ]
     },
     "execution_count": 10,
     "metadata": {},
     "output_type": "execute_result"
    },
    {
     "data": {
      "image/png": "[encoded data removed]",
      "text/plain": [
       "<Figure size 432x288 with 1 Axes>"
      ]
     },
     "metadata": {
      "needs_background": "light"
     },
     "output_type": "display_data"
    }
   ],
   "source": [
    "sns.histplot(data = test, x = \"Net migration\", bins = 30)"
   ]
  },
  {
   "cell_type": "code",
   "execution_count": null,
   "metadata": {},
   "outputs": [
    {
     "data": {
      "text/plain": [
       "<seaborn.axisgrid.FacetGrid at 0x1f4383862e0>"
      ]
     },
     "execution_count": 11,
     "metadata": {},
     "output_type": "execute_result"
    }
   ],
   "source": [
    "sns.relplot(x = \"Score\", y = \"Prevalence of HIV, total (% of population ages 15-49)\", data = test)"
   ]
  },
  {
   "cell_type": "code",
   "execution_count": null,
   "metadata": {},
   "outputs": [],
   "source": [
    "sns.relplot(x = \"Score\", y = \"Prevalence of undernourishment (% of population)\", data = test)"
   ]
  },
  {
   "cell_type": "code",
   "execution_count": null,
   "metadata": {},
   "outputs": [],
   "source": [
    "sns.relplot(x = \"Score\", y = \"Net migration\", data = test).set(title = \"Scatterplot of Net Migration and Score\")  # Initially does not look like there is much of a relationship"
   ]
  },
  {
   "cell_type": "code",
   "execution_count": null,
   "metadata": {},
   "outputs": [],
   "source": [
    "sns.relplot(x = \"Score\", y = \"Current health expenditure per capita, PPP (current international $)\", data = test).set(title = \"Scatterplot of Health Expenditure and Score\", ylabel = \"Health Expenditure (PPP)\")"
   ]
  },
  {
   "cell_type": "code",
   "execution_count": null,
   "metadata": {},
   "outputs": [],
   "source": [
    "\"\"\"\n",
    "We will attempt to data mine information from the variables.\n",
    "\n",
    "Thus, we will not be train/test splitting nor standardizing data or using \n",
    "regularization methods, for now.\n",
    "\"\"\"\n",
    "X = test[[\"Current health expenditure per capita, PPP (current international $)\",\n",
    "          \"Prevalence of undernourishment (percent of population)\",\n",
    "          \"Net migration\",\n",
    "          \"Prevalence of HIV, total (percent of population ages 15-49)\"]] \n",
    "y = test[[\"Score\"]]"
   ]
  },
  {
   "cell_type": "code",
   "execution_count": null,
   "metadata": {},
   "outputs": [],
   "source": [
    "from sklearn.linear_model import LinearRegression\n",
    "from sklearn.metrics import r2_score\n",
    "\n",
    "X_imputed = X.fillna(X.mean())\n",
    "\n",
    "lm = LinearRegression()\n",
    "lm.fit(X_imputed, y)\n",
    "predicted_ols = lm.predict(X_imputed)\n",
    "\n",
    "r2_score(y, predicted_ols)"
   ]
  },
  {
   "cell_type": "code",
   "execution_count": null,
   "metadata": {},
   "outputs": [],
   "source": [
    "lm.coef_"
   ]
  },
  {
   "cell_type": "code",
   "execution_count": null,
   "metadata": {},
   "outputs": [],
   "source": [
    "from sklearn.linear_model import Lasso\n",
    "\n",
    "lasso = Lasso()\n",
    "lasso.fit(X_imputed, y)\n",
    "predicted_lasso = lasso.predict(X_imputed)\n",
    "\n",
    "r2_score(y, predicted_lasso)"
   ]
  },
  {
   "cell_type": "code",
   "execution_count": null,
   "metadata": {},
   "outputs": [],
   "source": [
    "lasso.coef_"
   ]
  },
  {
   "cell_type": "markdown",
   "metadata": {},
   "source": [
    "One of the first big challenges we run into is missing data. Given the extremely limited amount of observations we have (155), it would be foolish to drop rows with missing entries. Instead, we can use a variation of monte carlo simulation from module 3. Specifically, we will use Markov Chain Monte Carlo (MCMC) to impute missing entries from a multivariate normal distribution. This will undoubtedly give us the most accurate values for missing data and perform better than mean replacement/row dropping."
   ]
  },
  {
   "cell_type": "code",
   "execution_count": null,
   "metadata": {},
   "outputs": [],
   "source": [
    "def mvnorm(n, mu, Sigma, random_state=256):\n",
    "    \"\"\"\n",
    "    Simulates n vectors from mvn(mu, Sigma)\n",
    "    with mean mu and covariance matrix Sigma\n",
    "    \"\"\"\n",
    "    np.random.seed(random_state)\n",
    "\n",
    "    p = mu.size  # Get size of mu\n",
    "    res = np.zeros((n, p))  # Initialize matrix to house our vectors as columns\n",
    "\n",
    "    if n > 0 and p > 0:\n",
    "        E = np.random.normal(size=n*p).reshape(n, p)\n",
    "        res = ((E @ np.linalg.cholesky(Sigma) + mu).T).T\n",
    "    \n",
    "    return res\n",
    "\n",
    "def wish(nu, Phi, random_state=256):\n",
    "    \"\"\" \n",
    "    Simulates a wishart random matrix from wish(nu, Phi)\n",
    "    \"\"\"\n",
    "    p = Phi.shape[0]\n",
    "    Z = mvnorm(nu, np.zeros((p, )), Phi, random_state=random_state)\n",
    "    return Z.T @ Z"
   ]
  },
  {
   "cell_type": "code",
   "execution_count": null,
   "metadata": {},
   "outputs": [],
   "source": [
    "# Prior Parameters\n",
    "n = X.shape[0]\n",
    "p = X.shape[1]\n",
    "mu0 = np.array([np.nanmean(X[\"Current health expenditure per capita, PPP (current international $)\"]),\n",
    "                np.nanmean(X[\"Prevalence of undernourishment (percent of population)\"]),\n",
    "                np.nanmean(X[\"Net migration\"]),\n",
    "                np.nanmean(X[\"Prevalence of HIV, total (percent of population ages 15-49)\"])])\n",
    "sd0 = mu0/2  # Arbitrary, but gibbs sampler will converge regardless\n",
    "\n",
    "L0 = np.full((p, p), 0.1)\n",
    "np.fill_diagonal(L0, 1)\n",
    "L0 = L0 * np.outer(sd0, sd0)\n",
    "\n",
    "nu0 = p + 2\n",
    "S0 = L0\n",
    "\n",
    "\n",
    "# Starting Values\n",
    "Sigma = S0\n",
    "X_full = X\n",
    "O = (X.notna()).astype(int)\n",
    "X_full = X_full.fillna(X_full.mean())\n",
    "\n",
    "\n",
    "# Gibbs Sampler\n",
    "for i in range(0, 1):\n",
    "    # Update Theta\n",
    "    ybar = np.array(X_full.mean())\n",
    "    Ln = np.linalg.inv(np.linalg.inv(L0) + n * np.linalg.inv(Sigma))\n",
    "    mun = Ln @ ((np.linalg.inv(L0) @ mu0) + n * (np.linalg.inv(Sigma) @ ybar))\n",
    "    theta = mvnorm(1, mun, Ln)\n",
    "\n",
    "    # Update Sigma\n",
    "    Sn = S0 + ((X_full.T - theta) @ (X_full.T - theta).T)\n",
    "    Sigma = np.linalg.inv(wish(1, nu0 + n, np.linalg.inv(Sn)))\n",
    "\n",
    "    # Update Missing Data\n",
    "    for j in range(0, n):\n",
    "        b = O[i,] == 0\n",
    "        a = O[i,] == 1\n",
    "        print(b)"
   ]
  }
 ],
 "metadata": {
  "kernelspec": {
   "display_name": "Python 3",
   "language": "python",
   "name": "python3"
  },
  "language_info": {
   "codemirror_mode": {
    "name": "ipython",
    "version": 3
   },
   "file_extension": ".py",
   "mimetype": "text/x-python",
   "name": "python",
   "nbconvert_exporter": "python",
   "pygments_lexer": "ipython3",
   "version": "3.8.5"
  }
 },
 "nbformat": 4,
 "nbformat_minor": 2
}
