{
 "cells": [
  {
   "cell_type": "code",
   "execution_count": 1,
   "metadata": {},
   "outputs": [],
   "source": [
    "import numpy as np\n",
    "import pandas as pd\n",
    "import seaborn as sns"
   ]
  },
  {
   "cell_type": "code",
   "execution_count": 2,
   "metadata": {},
   "outputs": [],
   "source": [
    "happy = pd.read_csv(\"data/Happiness.csv\")\n",
    "nutrition = pd.read_csv(\"data/nutrition_data.csv\")[:96131]  # 2019 Only\n",
    "\n",
    "nutrition[\"Country Name\"]\n",
    "happy[\"Country or region\"]\n",
    "\n",
    "# exclude Taiwan, Northern Cyprus\n",
    "\n",
    "nutrition[nutrition[\"Country Name\"] == \"Russian Federation\"] = \"Russia\"\n",
    "nutrition[nutrition[\"Country Name\"] == \"Czechia\"] = \"Czech Republic\"\n",
    "nutrition[nutrition[\"Country Name\"] == \"Trinidad and Tobago\"] = \"Trinidad & Tobago\"\n",
    "nutrition[nutrition[\"Country Name\"] == \"Hong Kong SAR, China\"] = \"Hong Kong\"\n",
    "nutrition[nutrition[\"Country Name\"] == \"Cote d'Ivoire\"] = \"Ivory Coast\"\n",
    "nutrition[nutrition[\"Country Name\"] == \"Congo, Rep\"] = \"Congo (Brazzaville)\"\n",
    "nutrition[nutrition[\"Country Name\"] == \"Lao PDR\"] = \"Laos\"\n",
    "\n"
   ]
  },
  {
   "cell_type": "code",
   "execution_count": 3,
   "metadata": {},
   "outputs": [
    {
     "data": {
      "text/plain": [
       "0                       Finland\n",
       "1                       Denmark\n",
       "2                        Norway\n",
       "3                       Iceland\n",
       "4                   Netherlands\n",
       "5                   Switzerland\n",
       "6                        Sweden\n",
       "7                   New Zealand\n",
       "8                        Canada\n",
       "9                       Austria\n",
       "10                    Australia\n",
       "11                   Costa Rica\n",
       "12                       Israel\n",
       "13                   Luxembourg\n",
       "14               United Kingdom\n",
       "15                      Ireland\n",
       "16                      Germany\n",
       "17                      Belgium\n",
       "18                United States\n",
       "19               Czech Republic\n",
       "20         United Arab Emirates\n",
       "21                        Malta\n",
       "22                       Mexico\n",
       "23                       France\n",
       "24                       Taiwan\n",
       "25                        Chile\n",
       "26                    Guatemala\n",
       "27                 Saudi Arabia\n",
       "28                        Qatar\n",
       "29                        Spain\n",
       "30                       Panama\n",
       "31                       Brazil\n",
       "32                      Uruguay\n",
       "33                    Singapore\n",
       "34                  El Salvador\n",
       "35                        Italy\n",
       "36                      Bahrain\n",
       "37                     Slovakia\n",
       "38            Trinidad & Tobago\n",
       "39                       Poland\n",
       "40                   Uzbekistan\n",
       "41                    Lithuania\n",
       "42                     Colombia\n",
       "43                     Slovenia\n",
       "44                    Nicaragua\n",
       "45                       Kosovo\n",
       "46                    Argentina\n",
       "47                      Romania\n",
       "48                       Cyprus\n",
       "49                      Ecuador\n",
       "50                       Kuwait\n",
       "51                     Thailand\n",
       "52                       Latvia\n",
       "53                  South Korea\n",
       "54                      Estonia\n",
       "55                      Jamaica\n",
       "56                    Mauritius\n",
       "57                        Japan\n",
       "58                     Honduras\n",
       "59                   Kazakhstan\n",
       "60                      Bolivia\n",
       "61                      Hungary\n",
       "62                     Paraguay\n",
       "63              Northern Cyprus\n",
       "64                         Peru\n",
       "65                     Portugal\n",
       "66                     Pakistan\n",
       "67                       Russia\n",
       "68                  Philippines\n",
       "69                       Serbia\n",
       "70                      Moldova\n",
       "71                        Libya\n",
       "72                   Montenegro\n",
       "73                   Tajikistan\n",
       "74                      Croatia\n",
       "75                    Hong Kong\n",
       "76           Dominican Republic\n",
       "77       Bosnia and Herzegovina\n",
       "78                       Turkey\n",
       "79                     Malaysia\n",
       "80                      Belarus\n",
       "81                       Greece\n",
       "82                     Mongolia\n",
       "83              North Macedonia\n",
       "84                      Nigeria\n",
       "85                   Kyrgyzstan\n",
       "86                 Turkmenistan\n",
       "87                      Algeria\n",
       "88                      Morocco\n",
       "89                   Azerbaijan\n",
       "90                      Lebanon\n",
       "91                    Indonesia\n",
       "92                        China\n",
       "93                      Vietnam\n",
       "94                       Bhutan\n",
       "95                     Cameroon\n",
       "96                     Bulgaria\n",
       "97                        Ghana\n",
       "98                  Ivory Coast\n",
       "99                        Nepal\n",
       "100                      Jordan\n",
       "101                       Benin\n",
       "102         Congo (Brazzaville)\n",
       "103                       Gabon\n",
       "104                        Laos\n",
       "105                South Africa\n",
       "106                     Albania\n",
       "107                   Venezuela\n",
       "108                    Cambodia\n",
       "109     Palestinian Territories\n",
       "110                     Senegal\n",
       "111                     Somalia\n",
       "112                     Namibia\n",
       "113                       Niger\n",
       "114                Burkina Faso\n",
       "115                     Armenia\n",
       "116                        Iran\n",
       "117                      Guinea\n",
       "118                     Georgia\n",
       "119                      Gambia\n",
       "120                       Kenya\n",
       "121                  Mauritania\n",
       "122                  Mozambique\n",
       "123                     Tunisia\n",
       "124                  Bangladesh\n",
       "125                        Iraq\n",
       "126            Congo (Kinshasa)\n",
       "127                        Mali\n",
       "128                Sierra Leone\n",
       "129                   Sri Lanka\n",
       "130                     Myanmar\n",
       "131                        Chad\n",
       "132                     Ukraine\n",
       "133                    Ethiopia\n",
       "134                   Swaziland\n",
       "135                      Uganda\n",
       "136                       Egypt\n",
       "137                      Zambia\n",
       "138                        Togo\n",
       "139                       India\n",
       "140                     Liberia\n",
       "141                     Comoros\n",
       "142                  Madagascar\n",
       "143                     Lesotho\n",
       "144                     Burundi\n",
       "145                    Zimbabwe\n",
       "146                       Haiti\n",
       "147                    Botswana\n",
       "148                       Syria\n",
       "149                      Malawi\n",
       "150                       Yemen\n",
       "151                      Rwanda\n",
       "152                    Tanzania\n",
       "153                 Afghanistan\n",
       "154    Central African Republic\n",
       "155                 South Sudan\n",
       "Name: Country or region, dtype: object"
      ]
     },
     "execution_count": 3,
     "metadata": {},
     "output_type": "execute_result"
    }
   ],
   "source": [
    "pd.set_option('display.max_rows', None)\n",
    "happy[\"Country or region\"]"
   ]
  },
  {
   "cell_type": "code",
   "execution_count": 4,
   "metadata": {},
   "outputs": [
    {
     "ename": "ValueError",
     "evalue": "Index contains duplicate entries, cannot reshape",
     "output_type": "error",
     "traceback": [
      "\u001b[1;31m---------------------------------------------------------------------------\u001b[0m",
      "\u001b[1;31mValueError\u001b[0m                                Traceback (most recent call last)",
      "\u001b[1;32m<ipython-input-4-a3e1d51bf79d>\u001b[0m in \u001b[0;36m<module>\u001b[1;34m\u001b[0m\n\u001b[1;32m----> 1\u001b[1;33m nutrition_wide = nutrition.pivot(index = \"Country Name\", \n\u001b[0m\u001b[0;32m      2\u001b[0m                                  \u001b[0mcolumns\u001b[0m \u001b[1;33m=\u001b[0m \u001b[1;34m\"Series Name\"\u001b[0m\u001b[1;33m,\u001b[0m\u001b[1;33m\u001b[0m\u001b[1;33m\u001b[0m\u001b[0m\n\u001b[0;32m      3\u001b[0m                                  values = \"2019 [YR2019]\")\n",
      "\u001b[1;32m~\\anaconda3\\lib\\site-packages\\pandas\\core\\frame.py\u001b[0m in \u001b[0;36mpivot\u001b[1;34m(self, index, columns, values)\u001b[0m\n\u001b[0;32m   6672\u001b[0m         \u001b[1;32mfrom\u001b[0m \u001b[0mpandas\u001b[0m\u001b[1;33m.\u001b[0m\u001b[0mcore\u001b[0m\u001b[1;33m.\u001b[0m\u001b[0mreshape\u001b[0m\u001b[1;33m.\u001b[0m\u001b[0mpivot\u001b[0m \u001b[1;32mimport\u001b[0m \u001b[0mpivot\u001b[0m\u001b[1;33m\u001b[0m\u001b[1;33m\u001b[0m\u001b[0m\n\u001b[0;32m   6673\u001b[0m \u001b[1;33m\u001b[0m\u001b[0m\n\u001b[1;32m-> 6674\u001b[1;33m         \u001b[1;32mreturn\u001b[0m \u001b[0mpivot\u001b[0m\u001b[1;33m(\u001b[0m\u001b[0mself\u001b[0m\u001b[1;33m,\u001b[0m \u001b[0mindex\u001b[0m\u001b[1;33m=\u001b[0m\u001b[0mindex\u001b[0m\u001b[1;33m,\u001b[0m \u001b[0mcolumns\u001b[0m\u001b[1;33m=\u001b[0m\u001b[0mcolumns\u001b[0m\u001b[1;33m,\u001b[0m \u001b[0mvalues\u001b[0m\u001b[1;33m=\u001b[0m\u001b[0mvalues\u001b[0m\u001b[1;33m)\u001b[0m\u001b[1;33m\u001b[0m\u001b[1;33m\u001b[0m\u001b[0m\n\u001b[0m\u001b[0;32m   6675\u001b[0m \u001b[1;33m\u001b[0m\u001b[0m\n\u001b[0;32m   6676\u001b[0m     _shared_docs[\n",
      "\u001b[1;32m~\\anaconda3\\lib\\site-packages\\pandas\\core\\reshape\\pivot.py\u001b[0m in \u001b[0;36mpivot\u001b[1;34m(data, index, columns, values)\u001b[0m\n\u001b[0;32m    475\u001b[0m         \u001b[1;32melse\u001b[0m\u001b[1;33m:\u001b[0m\u001b[1;33m\u001b[0m\u001b[1;33m\u001b[0m\u001b[0m\n\u001b[0;32m    476\u001b[0m             \u001b[0mindexed\u001b[0m \u001b[1;33m=\u001b[0m \u001b[0mdata\u001b[0m\u001b[1;33m.\u001b[0m\u001b[0m_constructor_sliced\u001b[0m\u001b[1;33m(\u001b[0m\u001b[0mdata\u001b[0m\u001b[1;33m[\u001b[0m\u001b[0mvalues\u001b[0m\u001b[1;33m]\u001b[0m\u001b[1;33m.\u001b[0m\u001b[0m_values\u001b[0m\u001b[1;33m,\u001b[0m \u001b[0mindex\u001b[0m\u001b[1;33m=\u001b[0m\u001b[0mindex\u001b[0m\u001b[1;33m)\u001b[0m\u001b[1;33m\u001b[0m\u001b[1;33m\u001b[0m\u001b[0m\n\u001b[1;32m--> 477\u001b[1;33m     \u001b[1;32mreturn\u001b[0m \u001b[0mindexed\u001b[0m\u001b[1;33m.\u001b[0m\u001b[0munstack\u001b[0m\u001b[1;33m(\u001b[0m\u001b[0mcolumns\u001b[0m\u001b[1;33m)\u001b[0m\u001b[1;33m\u001b[0m\u001b[1;33m\u001b[0m\u001b[0m\n\u001b[0m\u001b[0;32m    478\u001b[0m \u001b[1;33m\u001b[0m\u001b[0m\n\u001b[0;32m    479\u001b[0m \u001b[1;33m\u001b[0m\u001b[0m\n",
      "\u001b[1;32m~\\anaconda3\\lib\\site-packages\\pandas\\core\\series.py\u001b[0m in \u001b[0;36munstack\u001b[1;34m(self, level, fill_value)\u001b[0m\n\u001b[0;32m   3888\u001b[0m         \u001b[1;32mfrom\u001b[0m \u001b[0mpandas\u001b[0m\u001b[1;33m.\u001b[0m\u001b[0mcore\u001b[0m\u001b[1;33m.\u001b[0m\u001b[0mreshape\u001b[0m\u001b[1;33m.\u001b[0m\u001b[0mreshape\u001b[0m \u001b[1;32mimport\u001b[0m \u001b[0munstack\u001b[0m\u001b[1;33m\u001b[0m\u001b[1;33m\u001b[0m\u001b[0m\n\u001b[0;32m   3889\u001b[0m \u001b[1;33m\u001b[0m\u001b[0m\n\u001b[1;32m-> 3890\u001b[1;33m         \u001b[1;32mreturn\u001b[0m \u001b[0munstack\u001b[0m\u001b[1;33m(\u001b[0m\u001b[0mself\u001b[0m\u001b[1;33m,\u001b[0m \u001b[0mlevel\u001b[0m\u001b[1;33m,\u001b[0m \u001b[0mfill_value\u001b[0m\u001b[1;33m)\u001b[0m\u001b[1;33m\u001b[0m\u001b[1;33m\u001b[0m\u001b[0m\n\u001b[0m\u001b[0;32m   3891\u001b[0m \u001b[1;33m\u001b[0m\u001b[0m\n\u001b[0;32m   3892\u001b[0m     \u001b[1;31m# ----------------------------------------------------------------------\u001b[0m\u001b[1;33m\u001b[0m\u001b[1;33m\u001b[0m\u001b[1;33m\u001b[0m\u001b[0m\n",
      "\u001b[1;32m~\\anaconda3\\lib\\site-packages\\pandas\\core\\reshape\\reshape.py\u001b[0m in \u001b[0;36munstack\u001b[1;34m(obj, level, fill_value)\u001b[0m\n\u001b[0;32m    422\u001b[0m         \u001b[1;32mif\u001b[0m \u001b[0mis_extension_array_dtype\u001b[0m\u001b[1;33m(\u001b[0m\u001b[0mobj\u001b[0m\u001b[1;33m.\u001b[0m\u001b[0mdtype\u001b[0m\u001b[1;33m)\u001b[0m\u001b[1;33m:\u001b[0m\u001b[1;33m\u001b[0m\u001b[1;33m\u001b[0m\u001b[0m\n\u001b[0;32m    423\u001b[0m             \u001b[1;32mreturn\u001b[0m \u001b[0m_unstack_extension_series\u001b[0m\u001b[1;33m(\u001b[0m\u001b[0mobj\u001b[0m\u001b[1;33m,\u001b[0m \u001b[0mlevel\u001b[0m\u001b[1;33m,\u001b[0m \u001b[0mfill_value\u001b[0m\u001b[1;33m)\u001b[0m\u001b[1;33m\u001b[0m\u001b[1;33m\u001b[0m\u001b[0m\n\u001b[1;32m--> 424\u001b[1;33m         unstacker = _Unstacker(\n\u001b[0m\u001b[0;32m    425\u001b[0m             \u001b[0mobj\u001b[0m\u001b[1;33m.\u001b[0m\u001b[0mindex\u001b[0m\u001b[1;33m,\u001b[0m \u001b[0mlevel\u001b[0m\u001b[1;33m=\u001b[0m\u001b[0mlevel\u001b[0m\u001b[1;33m,\u001b[0m \u001b[0mconstructor\u001b[0m\u001b[1;33m=\u001b[0m\u001b[0mobj\u001b[0m\u001b[1;33m.\u001b[0m\u001b[0m_constructor_expanddim\u001b[0m\u001b[1;33m,\u001b[0m\u001b[1;33m\u001b[0m\u001b[1;33m\u001b[0m\u001b[0m\n\u001b[0;32m    426\u001b[0m         )\n",
      "\u001b[1;32m~\\anaconda3\\lib\\site-packages\\pandas\\core\\reshape\\reshape.py\u001b[0m in \u001b[0;36m__init__\u001b[1;34m(self, index, level, constructor)\u001b[0m\n\u001b[0;32m    118\u001b[0m             \u001b[1;32mraise\u001b[0m \u001b[0mValueError\u001b[0m\u001b[1;33m(\u001b[0m\u001b[1;34m\"Unstacked DataFrame is too big, causing int32 overflow\"\u001b[0m\u001b[1;33m)\u001b[0m\u001b[1;33m\u001b[0m\u001b[1;33m\u001b[0m\u001b[0m\n\u001b[0;32m    119\u001b[0m \u001b[1;33m\u001b[0m\u001b[0m\n\u001b[1;32m--> 120\u001b[1;33m         \u001b[0mself\u001b[0m\u001b[1;33m.\u001b[0m\u001b[0m_make_selectors\u001b[0m\u001b[1;33m(\u001b[0m\u001b[1;33m)\u001b[0m\u001b[1;33m\u001b[0m\u001b[1;33m\u001b[0m\u001b[0m\n\u001b[0m\u001b[0;32m    121\u001b[0m \u001b[1;33m\u001b[0m\u001b[0m\n\u001b[0;32m    122\u001b[0m     \u001b[1;33m@\u001b[0m\u001b[0mcache_readonly\u001b[0m\u001b[1;33m\u001b[0m\u001b[1;33m\u001b[0m\u001b[0m\n",
      "\u001b[1;32m~\\anaconda3\\lib\\site-packages\\pandas\\core\\reshape\\reshape.py\u001b[0m in \u001b[0;36m_make_selectors\u001b[1;34m(self)\u001b[0m\n\u001b[0;32m    167\u001b[0m \u001b[1;33m\u001b[0m\u001b[0m\n\u001b[0;32m    168\u001b[0m         \u001b[1;32mif\u001b[0m \u001b[0mmask\u001b[0m\u001b[1;33m.\u001b[0m\u001b[0msum\u001b[0m\u001b[1;33m(\u001b[0m\u001b[1;33m)\u001b[0m \u001b[1;33m<\u001b[0m \u001b[0mlen\u001b[0m\u001b[1;33m(\u001b[0m\u001b[0mself\u001b[0m\u001b[1;33m.\u001b[0m\u001b[0mindex\u001b[0m\u001b[1;33m)\u001b[0m\u001b[1;33m:\u001b[0m\u001b[1;33m\u001b[0m\u001b[1;33m\u001b[0m\u001b[0m\n\u001b[1;32m--> 169\u001b[1;33m             \u001b[1;32mraise\u001b[0m \u001b[0mValueError\u001b[0m\u001b[1;33m(\u001b[0m\u001b[1;34m\"Index contains duplicate entries, cannot reshape\"\u001b[0m\u001b[1;33m)\u001b[0m\u001b[1;33m\u001b[0m\u001b[1;33m\u001b[0m\u001b[0m\n\u001b[0m\u001b[0;32m    170\u001b[0m \u001b[1;33m\u001b[0m\u001b[0m\n\u001b[0;32m    171\u001b[0m         \u001b[0mself\u001b[0m\u001b[1;33m.\u001b[0m\u001b[0mgroup_index\u001b[0m \u001b[1;33m=\u001b[0m \u001b[0mcomp_index\u001b[0m\u001b[1;33m\u001b[0m\u001b[1;33m\u001b[0m\u001b[0m\n",
      "\u001b[1;31mValueError\u001b[0m: Index contains duplicate entries, cannot reshape"
     ]
    }
   ],
   "source": [
    "nutrition_wide = nutrition.pivot(index = \"Country Name\", \n",
    "                                 columns = \"Series Name\", \n",
    "                                 values = \"2019 [YR2019]\")"
   ]
  },
  {
   "cell_type": "code",
   "execution_count": null,
   "metadata": {},
   "outputs": [],
   "source": [
    "happy_merged = happy.merge(nutrition_wide, how = \"left\", \n",
    "                           left_on = \"Country or region\", \n",
    "                           right_on = \"Country Name\")"
   ]
  },
  {
   "cell_type": "code",
   "execution_count": null,
   "metadata": {},
   "outputs": [],
   "source": [
    "test = happy_merged.replace('..', np.nan)\n",
    "test[\"Prevalence of undernourishment (percent of population)\"] = pd.to_numeric(test[\"Prevalence of undernourishment (% of population)\"])\n",
    "test[\"Prevalence of HIV, total (percent of population ages 15-49)\"] = pd.to_numeric(test[\"Prevalence of HIV, total (% of population ages 15-49)\"])\n",
    "test[\"Net migration\"] = pd.to_numeric(test[\"Net migration\"])\n",
    "test[\"Current health expenditure per capita, PPP (current international $)\"] = pd.to_numeric(test[\"Current health expenditure per capita, PPP (current international $)\"])\n",
    "\n",
    "test.head()"
   ]
  },
  {
   "cell_type": "code",
   "execution_count": null,
   "metadata": {},
   "outputs": [],
   "source": [
    "sns.histplot(data = test, x = \"Prevalence of undernourishment (percent of population)\")"
   ]
  },
  {
   "cell_type": "code",
   "execution_count": null,
   "metadata": {},
   "outputs": [],
   "source": [
    "sns.histplot(data = test, x = \"Prevalence of HIV, total (percent of population ages 15-49)\", bins = 10)"
   ]
  },
  {
   "cell_type": "code",
   "execution_count": null,
   "metadata": {},
   "outputs": [],
   "source": [
    "sns.histplot(data = test, x = \"Current health expenditure per capita, PPP (current international $)\", bins = 20)"
   ]
  },
  {
   "cell_type": "code",
   "execution_count": null,
   "metadata": {},
   "outputs": [],
   "source": [
    "sns.histplot(data = test, x = \"Net migration\", bins = 30)"
   ]
  },
  {
   "cell_type": "code",
   "execution_count": null,
   "metadata": {},
   "outputs": [],
   "source": [
    "sns.relplot(x = \"Score\", y = \"Prevalence of HIV, total (% of population ages 15-49)\", data = test)"
   ]
  },
  {
   "cell_type": "code",
   "execution_count": null,
   "metadata": {},
   "outputs": [],
   "source": [
    "sns.relplot(x = \"Score\", y = \"Prevalence of undernourishment (% of population)\", data = test)"
   ]
  },
  {
   "cell_type": "code",
   "execution_count": null,
   "metadata": {},
   "outputs": [],
   "source": [
    "sns.relplot(x = \"Score\", y = \"Net migration\", data = test)  # Initially does not look like there is much of a relationship"
   ]
  },
  {
   "cell_type": "code",
   "execution_count": null,
   "metadata": {},
   "outputs": [],
   "source": [
    "sns.relplot(x = \"Score\", y = \"Current health expenditure per capita, PPP (current international $)\", data = test)"
   ]
  },
  {
   "cell_type": "code",
   "execution_count": null,
   "metadata": {},
   "outputs": [],
   "source": [
    "\"\"\"\n",
    "We will attempt to data mine information from the variables.\n",
    "\n",
    "Thus, we will not be train/test splitting nor standardizing data or using \n",
    "regularization methods, for now.\n",
    "\"\"\"\n",
    "X = test[[\"Country or region\",\n",
    "          \"Current health expenditure per capita, PPP (current international $)\",\n",
    "          \"Prevalence of undernourishment (percent of population)\",\n",
    "          \"Net migration\",\n",
    "          \"Prevalence of HIV, total (percent of population ages 15-49)\"]]\n",
    "y = test[[\"Score\"]]\n",
    "\n",
    "\n",
    "X[X[\"Prevalence of HIV, total (percent of population ages 15-49)\"].isna()]"
   ]
  },
  {
   "cell_type": "markdown",
   "metadata": {},
   "source": [
    "One of the first big challenges we run into is missing data. Given the extremely limited amount of observations we have (155), it would be foolish to drop rows with missing entries. Instead, we can use a variation of monte carlo simulation from module 3. Specifically, we will use Markov Chain Monte Carlo (MCMC) to impute missing entries from a multivariate normal distribution. This will undoubtedly give us the most accurate values for missing data and perform better than mean replacement/row dropping."
   ]
  },
  {
   "cell_type": "code",
   "execution_count": null,
   "metadata": {},
   "outputs": [],
   "source": [
    "lm = LinearRegression()\n",
    "print(X.head())\n",
    "lm.fit(X, y)\n",
    "lm.coef_"
   ]
  }
 ],
 "metadata": {
  "kernelspec": {
   "display_name": "Python 3",
   "language": "python",
   "name": "python3"
  },
  "language_info": {
   "codemirror_mode": {
    "name": "ipython",
    "version": 3
   },
   "file_extension": ".py",
   "mimetype": "text/x-python",
   "name": "python",
   "nbconvert_exporter": "python",
   "pygments_lexer": "ipython3",
   "version": "3.8.5"
  }
 },
 "nbformat": 4,
 "nbformat_minor": 2
}
