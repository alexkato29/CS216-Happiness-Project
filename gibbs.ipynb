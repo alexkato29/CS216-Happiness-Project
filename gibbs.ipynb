{
 "cells": [
  {
   "cell_type": "code",
   "execution_count": null,
   "metadata": {},
   "outputs": [],
   "source": [
    "import numpy as np"
   ]
  },
  {
   "cell_type": "code",
   "execution_count": null,
   "metadata": {},
   "outputs": [],
   "source": [
    "def mvnorm(n, mu, Sigma, random_state=256):\n",
    "    \"\"\"\n",
    "    Simulates n vectors from mvn(mu, Sigma)\n",
    "    with mean mu and covariance matrix Sigma\n",
    "    \"\"\"\n",
    "    np.random.seed(random_state)\n",
    "\n",
    "    p = mu.size  # Get size of mu\n",
    "    res = np.zeros((n, p))  # Initialize matrix to house our vectors as columns\n",
    "\n",
    "    if n > 0 and p > 0:\n",
    "        E = np.random.normal(size=n*p).reshape(n, p)\n",
    "        res = ((E @ np.linalg.cholesky(Sigma) + mu).T).T\n",
    "    \n",
    "    return res\n",
    "\n",
    "def wish(nu, Phi, random_state=256):\n",
    "    \"\"\" \n",
    "    Simulates a wishart random matrix from wish(nu, Phi)\n",
    "    \"\"\"\n",
    "    p = Phi.shape[0]\n",
    "    Z = mvnorm(nu, np.zeros((p, )), Phi, random_state=random_state)\n",
    "    return Z.T @ Z"
   ]
  },
  {
   "cell_type": "code",
   "execution_count": null,
   "metadata": {},
   "outputs": [],
   "source": [
    "# Prior Parameters\n",
    "n = X.shape[0]\n",
    "p = X.shape[1]\n",
    "\n",
    "mu0 = np.array([np.nanmean(X[\"Health Expenditure Per Capita\"]),\n",
    "                np.nanmean(X[\"Prevalence of Undernourishment\"]),\n",
    "                np.nanmean(X[\"Net Migration\"]),\n",
    "                np.nanmean(X[\"Prevalence of HIV\"])])\n",
    "\n",
    "sd0 = mu0/2  # Arbitrary, but gibbs sampler will converge regardless\n",
    "\n",
    "L0 = np.full((p, p), 0.1)\n",
    "np.fill_diagonal(L0, 1)\n",
    "L0 = L0 * np.outer(sd0, sd0)\n",
    "\n",
    "nu0 = p + 2\n",
    "S0 = L0\n",
    "\n",
    "\n",
    "# Starting Values\n",
    "Sigma = S0\n",
    "O = (X.notna()).astype(int)\n",
    "X_full = X\n",
    "X_full = X_full.fillna(X_full.mean())\n",
    "\n",
    "# Gibbs Sampler\n",
    "for s in range(0, 100):\n",
    "    # Update Theta\n",
    "    ybar = np.array(X_full.mean())\n",
    "    Ln = np.linalg.inv(np.linalg.inv(L0) + n * np.linalg.inv(Sigma))\n",
    "    mun = Ln @ ((np.linalg.inv(L0) @ mu0) + n * (np.linalg.inv(Sigma) @ ybar))\n",
    "    theta = mvnorm(1, mun, Ln)\n",
    "\n",
    "    # Update Sigma\n",
    "    Sn = S0 + ((X_full - theta).T @ (X_full - theta))\n",
    "    Sigma = np.linalg.inv(wish(nu0 + n, np.linalg.inv(Sn)))\n",
    "\n",
    "    # Update Missing Data\n",
    "    for i in range(0, n):\n",
    "        missing = O.iloc[i,] == 0\n",
    "        not_missing = O.iloc[i,] == 1\n",
    "        b = [j for j, x in enumerate(missing) if x]\n",
    "        a = [j for j, x in enumerate(not_missing) if x]\n",
    "\n",
    "        iSa = np.linalg.inv(Sigma[np.ix_(a,a)])\n",
    "        theta_b_given_a = theta[0,b] + (Sigma[np.ix_(b,a)] @ iSa @ (X_full.iloc[i, a] - theta[0,a]))\n",
    "        Sigma_b_given_a = Sigma[np.ix_(b,b)] - (Sigma[np.ix_(b,a)] @ iSa @ Sigma[np.ix_(a,b)])\n",
    "\n",
    "        X_full.iloc[i, b] = mvnorm(1, theta_b_given_a, Sigma_b_given_a).flatten()"
   ]
  }
 ],
 "metadata": {
  "language_info": {
   "name": "python"
  },
  "orig_nbformat": 4
 },
 "nbformat": 4,
 "nbformat_minor": 2
}
